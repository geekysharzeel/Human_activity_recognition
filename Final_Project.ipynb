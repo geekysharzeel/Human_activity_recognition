{
 "cells": [
  {
   "cell_type": "code",
   "execution_count": null,
   "metadata": {
    "colab": {
     "base_uri": "https://localhost:8080/"
    },
    "id": "p4fBq1JksmGL",
    "outputId": "ce438963-a28f-4d37-c3c1-9d49dc7fce4f"
   },
   "outputs": [
    {
     "name": "stdout",
     "output_type": "stream",
     "text": [
      "Drive already mounted at /content/drive; to attempt to forcibly remount, call drive.mount(\"/content/drive\", force_remount=True).\n"
     ]
    }
   ],
   "source": [
    "from google.colab import drive\n",
    "drive.mount('/content/drive')"
   ]
  },
  {
   "cell_type": "markdown",
   "metadata": {
    "id": "TrkHsVf4rGQ6"
   },
   "source": [
    "# Final Project"
   ]
  },
  {
   "cell_type": "markdown",
   "metadata": {
    "id": "IZEAjFMXrGRD"
   },
   "source": [
    "## Build a Human Action Recognition Model"
   ]
  },
  {
   "cell_type": "code",
   "execution_count": null,
   "metadata": {
    "colab": {
     "base_uri": "https://localhost:8080/",
     "height": 34
    },
    "id": "0MM3zCC0rGRE",
    "outputId": "d2113ea8-68e9-4d92-859e-3a5e280ca080"
   },
   "outputs": [
    {
     "data": {
      "application/javascript": [
       "IPython.notebook.set_autosave_interval(5000)"
      ]
     },
     "metadata": {
      "tags": []
     },
     "output_type": "display_data"
    },
    {
     "name": "stdout",
     "output_type": "stream",
     "text": [
      "Autosaving every 5 seconds\n"
     ]
    }
   ],
   "source": [
    "# Libraries \n",
    "%autosave 5\n",
    "import warnings \n",
    "warnings.filterwarnings('ignore')\n",
    "import pandas as pd\n",
    "import numpy as np\n",
    "import matplotlib.pyplot as plt\n",
    "import seaborn as sns\n",
    "import tensorflow as tf\n",
    "import os\n",
    "\n",
    "\n",
    "%matplotlib inline"
   ]
  },
  {
   "cell_type": "markdown",
   "metadata": {
    "id": "oQa_TeWrrGRF"
   },
   "source": [
    "# Data Understanding"
   ]
  },
  {
   "cell_type": "code",
   "execution_count": null,
   "metadata": {
    "id": "F_hyoyDqrGRG"
   },
   "outputs": [],
   "source": [
    "# Loading the dataset\n",
    "\n",
    "train = pd.read_csv('/content/drive/MyDrive/Technocolabs_Final_Project/kinetics700/kinetics-700_train.csv')\n"
   ]
  },
  {
   "cell_type": "code",
   "execution_count": null,
   "metadata": {
    "colab": {
     "base_uri": "https://localhost:8080/",
     "height": 195
    },
    "id": "mxj4AcBsrGRG",
    "outputId": "4c9f22bc-8389-49e9-80a1-2100b65f8679"
   },
   "outputs": [
    {
     "data": {
      "text/html": [
       "<div>\n",
       "<style scoped>\n",
       "    .dataframe tbody tr th:only-of-type {\n",
       "        vertical-align: middle;\n",
       "    }\n",
       "\n",
       "    .dataframe tbody tr th {\n",
       "        vertical-align: top;\n",
       "    }\n",
       "\n",
       "    .dataframe thead th {\n",
       "        text-align: right;\n",
       "    }\n",
       "</style>\n",
       "<table border=\"1\" class=\"dataframe\">\n",
       "  <thead>\n",
       "    <tr style=\"text-align: right;\">\n",
       "      <th></th>\n",
       "      <th>label</th>\n",
       "      <th>youtube_id</th>\n",
       "      <th>time_start</th>\n",
       "      <th>time_end</th>\n",
       "      <th>split</th>\n",
       "    </tr>\n",
       "  </thead>\n",
       "  <tbody>\n",
       "    <tr>\n",
       "      <th>0</th>\n",
       "      <td>abseiling</td>\n",
       "      <td>oJCxnjaCoyI</td>\n",
       "      <td>385</td>\n",
       "      <td>395</td>\n",
       "      <td>train</td>\n",
       "    </tr>\n",
       "    <tr>\n",
       "      <th>1</th>\n",
       "      <td>abseiling</td>\n",
       "      <td>XtbeP16BJdQ</td>\n",
       "      <td>787</td>\n",
       "      <td>797</td>\n",
       "      <td>train</td>\n",
       "    </tr>\n",
       "    <tr>\n",
       "      <th>2</th>\n",
       "      <td>abseiling</td>\n",
       "      <td>XXulvmGzw60</td>\n",
       "      <td>563</td>\n",
       "      <td>573</td>\n",
       "      <td>train</td>\n",
       "    </tr>\n",
       "    <tr>\n",
       "      <th>3</th>\n",
       "      <td>abseiling</td>\n",
       "      <td>-3B32lodo2M</td>\n",
       "      <td>59</td>\n",
       "      <td>69</td>\n",
       "      <td>train</td>\n",
       "    </tr>\n",
       "    <tr>\n",
       "      <th>4</th>\n",
       "      <td>abseiling</td>\n",
       "      <td>-7kbO0v4hag</td>\n",
       "      <td>107</td>\n",
       "      <td>117</td>\n",
       "      <td>train</td>\n",
       "    </tr>\n",
       "  </tbody>\n",
       "</table>\n",
       "</div>"
      ],
      "text/plain": [
       "       label   youtube_id  time_start  time_end  split\n",
       "0  abseiling  oJCxnjaCoyI         385       395  train\n",
       "1  abseiling  XtbeP16BJdQ         787       797  train\n",
       "2  abseiling  XXulvmGzw60         563       573  train\n",
       "3  abseiling  -3B32lodo2M          59        69  train\n",
       "4  abseiling  -7kbO0v4hag         107       117  train"
      ]
     },
     "execution_count": 5,
     "metadata": {
      "tags": []
     },
     "output_type": "execute_result"
    }
   ],
   "source": [
    "train.head()"
   ]
  },
  {
   "cell_type": "code",
   "execution_count": null,
   "metadata": {
    "colab": {
     "base_uri": "https://localhost:8080/"
    },
    "id": "JgRNBmCrrGRI",
    "outputId": "dd6a98e3-4d2f-46eb-f041-351d0ab49555"
   },
   "outputs": [
    {
     "name": "stdout",
     "output_type": "stream",
     "text": [
      "<class 'pandas.core.frame.DataFrame'>\n",
      "RangeIndex: 545317 entries, 0 to 545316\n",
      "Data columns (total 5 columns):\n",
      " #   Column      Non-Null Count   Dtype \n",
      "---  ------      --------------   ----- \n",
      " 0   label       545317 non-null  object\n",
      " 1   youtube_id  545317 non-null  object\n",
      " 2   time_start  545317 non-null  int64 \n",
      " 3   time_end    545317 non-null  int64 \n",
      " 4   split       545317 non-null  object\n",
      "dtypes: int64(2), object(3)\n",
      "memory usage: 20.8+ MB\n"
     ]
    }
   ],
   "source": [
    "# Data Information\n",
    "train.info()"
   ]
  },
  {
   "cell_type": "code",
   "execution_count": null,
   "metadata": {
    "colab": {
     "base_uri": "https://localhost:8080/",
     "height": 373
    },
    "id": "PFc5wTPhrGRI",
    "outputId": "dd84435b-9ffc-4c52-b73c-1f92716dff80"
   },
   "outputs": [
    {
     "data": {
      "text/html": [
       "<div>\n",
       "<style scoped>\n",
       "    .dataframe tbody tr th:only-of-type {\n",
       "        vertical-align: middle;\n",
       "    }\n",
       "\n",
       "    .dataframe tbody tr th {\n",
       "        vertical-align: top;\n",
       "    }\n",
       "\n",
       "    .dataframe thead th {\n",
       "        text-align: right;\n",
       "    }\n",
       "</style>\n",
       "<table border=\"1\" class=\"dataframe\">\n",
       "  <thead>\n",
       "    <tr style=\"text-align: right;\">\n",
       "      <th></th>\n",
       "      <th>label</th>\n",
       "      <th>youtube_id</th>\n",
       "      <th>time_start</th>\n",
       "      <th>time_end</th>\n",
       "      <th>split</th>\n",
       "    </tr>\n",
       "  </thead>\n",
       "  <tbody>\n",
       "    <tr>\n",
       "      <th>count</th>\n",
       "      <td>545317</td>\n",
       "      <td>545317</td>\n",
       "      <td>545317.000000</td>\n",
       "      <td>545317.000000</td>\n",
       "      <td>545317</td>\n",
       "    </tr>\n",
       "    <tr>\n",
       "      <th>unique</th>\n",
       "      <td>700</td>\n",
       "      <td>542802</td>\n",
       "      <td>NaN</td>\n",
       "      <td>NaN</td>\n",
       "      <td>1</td>\n",
       "    </tr>\n",
       "    <tr>\n",
       "      <th>top</th>\n",
       "      <td>inflating balloons</td>\n",
       "      <td>VRs-69kLs_4</td>\n",
       "      <td>NaN</td>\n",
       "      <td>NaN</td>\n",
       "      <td>train</td>\n",
       "    </tr>\n",
       "    <tr>\n",
       "      <th>freq</th>\n",
       "      <td>1000</td>\n",
       "      <td>3</td>\n",
       "      <td>NaN</td>\n",
       "      <td>NaN</td>\n",
       "      <td>545317</td>\n",
       "    </tr>\n",
       "    <tr>\n",
       "      <th>mean</th>\n",
       "      <td>NaN</td>\n",
       "      <td>NaN</td>\n",
       "      <td>86.498231</td>\n",
       "      <td>96.498075</td>\n",
       "      <td>NaN</td>\n",
       "    </tr>\n",
       "    <tr>\n",
       "      <th>std</th>\n",
       "      <td>NaN</td>\n",
       "      <td>NaN</td>\n",
       "      <td>199.786886</td>\n",
       "      <td>199.786955</td>\n",
       "      <td>NaN</td>\n",
       "    </tr>\n",
       "    <tr>\n",
       "      <th>min</th>\n",
       "      <td>NaN</td>\n",
       "      <td>NaN</td>\n",
       "      <td>0.000000</td>\n",
       "      <td>5.000000</td>\n",
       "      <td>NaN</td>\n",
       "    </tr>\n",
       "    <tr>\n",
       "      <th>25%</th>\n",
       "      <td>NaN</td>\n",
       "      <td>NaN</td>\n",
       "      <td>7.000000</td>\n",
       "      <td>17.000000</td>\n",
       "      <td>NaN</td>\n",
       "    </tr>\n",
       "    <tr>\n",
       "      <th>50%</th>\n",
       "      <td>NaN</td>\n",
       "      <td>NaN</td>\n",
       "      <td>30.000000</td>\n",
       "      <td>40.000000</td>\n",
       "      <td>NaN</td>\n",
       "    </tr>\n",
       "    <tr>\n",
       "      <th>75%</th>\n",
       "      <td>NaN</td>\n",
       "      <td>NaN</td>\n",
       "      <td>94.000000</td>\n",
       "      <td>104.000000</td>\n",
       "      <td>NaN</td>\n",
       "    </tr>\n",
       "    <tr>\n",
       "      <th>max</th>\n",
       "      <td>NaN</td>\n",
       "      <td>NaN</td>\n",
       "      <td>29660.000000</td>\n",
       "      <td>29670.000000</td>\n",
       "      <td>NaN</td>\n",
       "    </tr>\n",
       "  </tbody>\n",
       "</table>\n",
       "</div>"
      ],
      "text/plain": [
       "                     label   youtube_id     time_start       time_end   split\n",
       "count               545317       545317  545317.000000  545317.000000  545317\n",
       "unique                 700       542802            NaN            NaN       1\n",
       "top     inflating balloons  VRs-69kLs_4            NaN            NaN   train\n",
       "freq                  1000            3            NaN            NaN  545317\n",
       "mean                   NaN          NaN      86.498231      96.498075     NaN\n",
       "std                    NaN          NaN     199.786886     199.786955     NaN\n",
       "min                    NaN          NaN       0.000000       5.000000     NaN\n",
       "25%                    NaN          NaN       7.000000      17.000000     NaN\n",
       "50%                    NaN          NaN      30.000000      40.000000     NaN\n",
       "75%                    NaN          NaN      94.000000     104.000000     NaN\n",
       "max                    NaN          NaN   29660.000000   29670.000000     NaN"
      ]
     },
     "execution_count": 7,
     "metadata": {
      "tags": []
     },
     "output_type": "execute_result"
    }
   ],
   "source": [
    "# Data Decripton\n",
    "train.describe(include='all')"
   ]
  },
  {
   "cell_type": "code",
   "execution_count": null,
   "metadata": {
    "colab": {
     "base_uri": "https://localhost:8080/"
    },
    "id": "zVw2Fn6rrGRI",
    "outputId": "e1ba3cf7-4157-4a6f-94ac-0a7f42050168"
   },
   "outputs": [
    {
     "name": "stdout",
     "output_type": "stream",
     "text": [
      "Rows :  545317\n",
      "Columns :  5\n"
     ]
    }
   ],
   "source": [
    "# Checking the dimensions of the data\n",
    "print('Rows : ',train.shape[0])\n",
    "print('Columns : ',train.shape[1])"
   ]
  },
  {
   "cell_type": "code",
   "execution_count": null,
   "metadata": {
    "colab": {
     "base_uri": "https://localhost:8080/"
    },
    "id": "Dr7yBXbFrGRJ",
    "outputId": "3452805e-85e2-4e76-a402-46c7ba664311"
   },
   "outputs": [
    {
     "name": "stdout",
     "output_type": "stream",
     "text": [
      "label         0\n",
      "youtube_id    0\n",
      "time_start    0\n",
      "time_end      0\n",
      "split         0\n",
      "dtype: int64\n"
     ]
    }
   ],
   "source": [
    "# Missing Values Check \n",
    "print(train.isnull().sum())"
   ]
  },
  {
   "cell_type": "code",
   "execution_count": null,
   "metadata": {
    "colab": {
     "base_uri": "https://localhost:8080/"
    },
    "id": "6Wm7QYKTrGRJ",
    "outputId": "47eecdd6-255b-4dca-c127-58960ea8945c"
   },
   "outputs": [
    {
     "data": {
      "text/plain": [
       "label            700\n",
       "youtube_id    542802\n",
       "time_start      2428\n",
       "time_end        2433\n",
       "split              1\n",
       "dtype: int64"
      ]
     },
     "execution_count": 10,
     "metadata": {
      "tags": []
     },
     "output_type": "execute_result"
    }
   ],
   "source": [
    "# Unique values \n",
    "train.nunique()"
   ]
  },
  {
   "cell_type": "markdown",
   "metadata": {
    "id": "RLkwwdaErGRK"
   },
   "source": [
    "### Checking the test data set"
   ]
  },
  {
   "cell_type": "code",
   "execution_count": null,
   "metadata": {
    "colab": {
     "base_uri": "https://localhost:8080/",
     "height": 195
    },
    "id": "BxFT1B3WrGRK",
    "outputId": "b42434f9-d767-4e3d-bbce-eb754bfa81ed"
   },
   "outputs": [
    {
     "data": {
      "text/html": [
       "<div>\n",
       "<style scoped>\n",
       "    .dataframe tbody tr th:only-of-type {\n",
       "        vertical-align: middle;\n",
       "    }\n",
       "\n",
       "    .dataframe tbody tr th {\n",
       "        vertical-align: top;\n",
       "    }\n",
       "\n",
       "    .dataframe thead th {\n",
       "        text-align: right;\n",
       "    }\n",
       "</style>\n",
       "<table border=\"1\" class=\"dataframe\">\n",
       "  <thead>\n",
       "    <tr style=\"text-align: right;\">\n",
       "      <th></th>\n",
       "      <th>youtube_id</th>\n",
       "      <th>time_start</th>\n",
       "      <th>time_end</th>\n",
       "      <th>split</th>\n",
       "    </tr>\n",
       "  </thead>\n",
       "  <tbody>\n",
       "    <tr>\n",
       "      <th>0</th>\n",
       "      <td>6dEpI75FOeo</td>\n",
       "      <td>17</td>\n",
       "      <td>27</td>\n",
       "      <td>test</td>\n",
       "    </tr>\n",
       "    <tr>\n",
       "      <th>1</th>\n",
       "      <td>15H3EqaHVi0</td>\n",
       "      <td>8</td>\n",
       "      <td>18</td>\n",
       "      <td>test</td>\n",
       "    </tr>\n",
       "    <tr>\n",
       "      <th>2</th>\n",
       "      <td>d6Ko4hm8M8E</td>\n",
       "      <td>0</td>\n",
       "      <td>10</td>\n",
       "      <td>test</td>\n",
       "    </tr>\n",
       "    <tr>\n",
       "      <th>3</th>\n",
       "      <td>-SakeFNtM0s</td>\n",
       "      <td>57</td>\n",
       "      <td>67</td>\n",
       "      <td>test</td>\n",
       "    </tr>\n",
       "    <tr>\n",
       "      <th>4</th>\n",
       "      <td>at3mGS-FAVg</td>\n",
       "      <td>11</td>\n",
       "      <td>21</td>\n",
       "      <td>test</td>\n",
       "    </tr>\n",
       "  </tbody>\n",
       "</table>\n",
       "</div>"
      ],
      "text/plain": [
       "    youtube_id  time_start  time_end split\n",
       "0  6dEpI75FOeo          17        27  test\n",
       "1  15H3EqaHVi0           8        18  test\n",
       "2  d6Ko4hm8M8E           0        10  test\n",
       "3  -SakeFNtM0s          57        67  test\n",
       "4  at3mGS-FAVg          11        21  test"
      ]
     },
     "execution_count": 11,
     "metadata": {
      "tags": []
     },
     "output_type": "execute_result"
    }
   ],
   "source": [
    "# Checking the test data set\n",
    "test = pd.read_csv('/content/drive/MyDrive/Technocolabs_Final_Project/kinetics700/kinetics-700_test.csv')\n",
    "test.head()"
   ]
  },
  {
   "cell_type": "code",
   "execution_count": null,
   "metadata": {
    "colab": {
     "base_uri": "https://localhost:8080/",
     "height": 195
    },
    "id": "ZxNgsdONrGRL",
    "outputId": "cb424571-1eea-4d85-b556-babb4e245d8b"
   },
   "outputs": [
    {
     "data": {
      "text/html": [
       "<div>\n",
       "<style scoped>\n",
       "    .dataframe tbody tr th:only-of-type {\n",
       "        vertical-align: middle;\n",
       "    }\n",
       "\n",
       "    .dataframe tbody tr th {\n",
       "        vertical-align: top;\n",
       "    }\n",
       "\n",
       "    .dataframe thead th {\n",
       "        text-align: right;\n",
       "    }\n",
       "</style>\n",
       "<table border=\"1\" class=\"dataframe\">\n",
       "  <thead>\n",
       "    <tr style=\"text-align: right;\">\n",
       "      <th></th>\n",
       "      <th>youtube_id</th>\n",
       "      <th>time_start</th>\n",
       "      <th>time_end</th>\n",
       "      <th>split</th>\n",
       "    </tr>\n",
       "  </thead>\n",
       "  <tbody>\n",
       "    <tr>\n",
       "      <th>36867</th>\n",
       "      <td>---v8pgm1eQ</td>\n",
       "      <td>0</td>\n",
       "      <td>10</td>\n",
       "      <td>test</td>\n",
       "    </tr>\n",
       "    <tr>\n",
       "      <th>69609</th>\n",
       "      <td>--0BJ-j7tg8</td>\n",
       "      <td>0</td>\n",
       "      <td>10</td>\n",
       "      <td>test</td>\n",
       "    </tr>\n",
       "    <tr>\n",
       "      <th>26642</th>\n",
       "      <td>--0kKuQu4Gs</td>\n",
       "      <td>0</td>\n",
       "      <td>10</td>\n",
       "      <td>test</td>\n",
       "    </tr>\n",
       "    <tr>\n",
       "      <th>32127</th>\n",
       "      <td>--1f2DTKcwg</td>\n",
       "      <td>111</td>\n",
       "      <td>121</td>\n",
       "      <td>test</td>\n",
       "    </tr>\n",
       "    <tr>\n",
       "      <th>18437</th>\n",
       "      <td>--2V_kDPfDg</td>\n",
       "      <td>192</td>\n",
       "      <td>202</td>\n",
       "      <td>test</td>\n",
       "    </tr>\n",
       "  </tbody>\n",
       "</table>\n",
       "</div>"
      ],
      "text/plain": [
       "        youtube_id  time_start  time_end split\n",
       "36867  ---v8pgm1eQ           0        10  test\n",
       "69609  --0BJ-j7tg8           0        10  test\n",
       "26642  --0kKuQu4Gs           0        10  test\n",
       "32127  --1f2DTKcwg         111       121  test\n",
       "18437  --2V_kDPfDg         192       202  test"
      ]
     },
     "execution_count": 12,
     "metadata": {
      "tags": []
     },
     "output_type": "execute_result"
    }
   ],
   "source": [
    "# Sorted values of the test data\n",
    "test.sort_values(by='youtube_id').head()"
   ]
  },
  {
   "cell_type": "markdown",
   "metadata": {
    "id": "hxP_FbofrGRL"
   },
   "source": [
    "### Taking the 50 categories from the original dataset"
   ]
  },
  {
   "cell_type": "code",
   "execution_count": null,
   "metadata": {
    "colab": {
     "base_uri": "https://localhost:8080/"
    },
    "id": "P1O_RDnurGRL",
    "outputId": "a306007a-b45d-4c70-ac2f-d3971f88a730"
   },
   "outputs": [
    {
     "data": {
      "text/plain": [
       "Index(['inflating balloons', 'milking cow', 'deadlifting', 'vacuuming floor',\n",
       "       'dribbling basketball', 'high jump', 'playing flute',\n",
       "       'dancing macarena', 'slacklining', 'welding', 'kitesurfing',\n",
       "       'cartwheeling', 'chopping wood', 'celebrating', 'archery',\n",
       "       'snowmobiling', 'throwing ball (not baseball or American football)',\n",
       "       'paragliding', 'playing keyboard', 'exercising with an exercise ball',\n",
       "       'cheerleading', 'capoeira', 'breakdancing',\n",
       "       'cooking sausages (not on barbeque)', 'finger snapping', 'side kick',\n",
       "       'driving car', 'bouncing on trampoline', 'swinging on something',\n",
       "       'brushing hair', 'roller skating', 'beatboxing', 'canoeing or kayaking',\n",
       "       'feeding birds', 'pillow fight', 'headbanging', 'hammer throw',\n",
       "       'watering plants', 'blowing out candles', 'stretching leg',\n",
       "       'preparing salad', 'laughing', 'eating cake', 'opening present',\n",
       "       'snowboarding', 'making pizza', 'waking up', 'ice climbing',\n",
       "       'catching or throwing baseball', 'shoveling snow'],\n",
       "      dtype='object')"
      ]
     },
     "execution_count": 13,
     "metadata": {
      "tags": []
     },
     "output_type": "execute_result"
    }
   ],
   "source": [
    "# getting the first 50 categories \n",
    "categories = train['label'].value_counts().head(50).index\n",
    "\n",
    "categories"
   ]
  },
  {
   "cell_type": "code",
   "execution_count": null,
   "metadata": {
    "id": "Dnsk0hiDrGRM"
   },
   "outputs": [],
   "source": [
    "# Function to take the significant amount of categories \n",
    "def top_dist_cat(data,category,loc):\n",
    "    sample1 = data[data.loc[:,'label']==category].head(loc)\n",
    "    sample1.reset_index(drop=True,inplace=True)\n",
    "    return sample1"
   ]
  },
  {
   "cell_type": "code",
   "execution_count": null,
   "metadata": {
    "colab": {
     "base_uri": "https://localhost:8080/"
    },
    "id": "nz66TMunrGRM",
    "outputId": "0574327e-4486-4436-a9e0-1cc2ed0a4c4f",
    "scrolled": false
   },
   "outputs": [
    {
     "data": {
      "text/plain": [
       "paragliding                                          10\n",
       "catching or throwing baseball                        10\n",
       "waking up                                            10\n",
       "dancing macarena                                     10\n",
       "laughing                                             10\n",
       "preparing salad                                      10\n",
       "eating cake                                          10\n",
       "beatboxing                                           10\n",
       "inflating balloons                                   10\n",
       "feeding birds                                        10\n",
       "opening present                                      10\n",
       "swinging on something                                10\n",
       "making pizza                                         10\n",
       "kitesurfing                                          10\n",
       "ice climbing                                         10\n",
       "slacklining                                          10\n",
       "chopping wood                                        10\n",
       "cartwheeling                                         10\n",
       "archery                                              10\n",
       "welding                                              10\n",
       "pillow fight                                         10\n",
       "roller skating                                       10\n",
       "playing flute                                        10\n",
       "deadlifting                                          10\n",
       "bouncing on trampoline                               10\n",
       "shoveling snow                                       10\n",
       "playing keyboard                                     10\n",
       "celebrating                                          10\n",
       "high jump                                            10\n",
       "capoeira                                             10\n",
       "finger snapping                                      10\n",
       "side kick                                            10\n",
       "brushing hair                                        10\n",
       "cooking sausages (not on barbeque)                   10\n",
       "throwing ball (not baseball or American football)    10\n",
       "hammer throw                                         10\n",
       "dribbling basketball                                 10\n",
       "stretching leg                                       10\n",
       "vacuuming floor                                      10\n",
       "breakdancing                                         10\n",
       "snowmobiling                                         10\n",
       "canoeing or kayaking                                 10\n",
       "headbanging                                          10\n",
       "exercising with an exercise ball                     10\n",
       "blowing out candles                                  10\n",
       "watering plants                                      10\n",
       "cheerleading                                         10\n",
       "milking cow                                          10\n",
       "snowboarding                                         10\n",
       "driving car                                          10\n",
       "Name: label, dtype: int64"
      ]
     },
     "execution_count": 15,
     "metadata": {
      "tags": []
     },
     "output_type": "execute_result"
    }
   ],
   "source": [
    "\n",
    "# Making the sample data set with 50 categories with 10 videos\n",
    "df = []\n",
    "for i in categories:\n",
    "    df.append(top_dist_cat(train,i,10))\n",
    "new_train1 = pd.concat(df,ignore_index=True)\n",
    "\n",
    "new_train1['label'].value_counts()"
   ]
  },
  {
   "cell_type": "code",
   "execution_count": null,
   "metadata": {
    "colab": {
     "base_uri": "https://localhost:8080/"
    },
    "id": "9ugNGZvhrGRM",
    "outputId": "d1426d0e-4257-41c6-a42d-3e559fbe47ca"
   },
   "outputs": [
    {
     "name": "stdout",
     "output_type": "stream",
     "text": [
      "Number of categories in the new data set :  50\n"
     ]
    }
   ],
   "source": [
    "# Checking the number of the categories\n",
    "\n",
    "print('Number of categories in the new data set : ',new_train1['label'].value_counts().index.size)"
   ]
  },
  {
   "cell_type": "code",
   "execution_count": null,
   "metadata": {
    "colab": {
     "base_uri": "https://localhost:8080/"
    },
    "id": "9oGjB_KcrGRN",
    "outputId": "1ee76c71-e1fe-4c5d-a6e8-6fba1b8766b2"
   },
   "outputs": [
    {
     "name": "stdout",
     "output_type": "stream",
     "text": [
      "<class 'pandas.core.frame.DataFrame'>\n",
      "RangeIndex: 500 entries, 0 to 499\n",
      "Data columns (total 5 columns):\n",
      " #   Column      Non-Null Count  Dtype \n",
      "---  ------      --------------  ----- \n",
      " 0   label       500 non-null    object\n",
      " 1   youtube_id  500 non-null    object\n",
      " 2   time_start  500 non-null    int64 \n",
      " 3   time_end    500 non-null    int64 \n",
      " 4   split       500 non-null    object\n",
      "dtypes: int64(2), object(3)\n",
      "memory usage: 19.7+ KB\n"
     ]
    }
   ],
   "source": [
    "# Checking the information about the new data set \n",
    "new_train1.info()"
   ]
  },
  {
   "cell_type": "code",
   "execution_count": null,
   "metadata": {
    "colab": {
     "base_uri": "https://localhost:8080/",
     "height": 195
    },
    "id": "p4wbLGLKrGRN",
    "outputId": "596ff273-6e1f-41ee-dbc5-8b368179d5e7",
    "scrolled": true
   },
   "outputs": [
    {
     "data": {
      "text/html": [
       "<div>\n",
       "<style scoped>\n",
       "    .dataframe tbody tr th:only-of-type {\n",
       "        vertical-align: middle;\n",
       "    }\n",
       "\n",
       "    .dataframe tbody tr th {\n",
       "        vertical-align: top;\n",
       "    }\n",
       "\n",
       "    .dataframe thead th {\n",
       "        text-align: right;\n",
       "    }\n",
       "</style>\n",
       "<table border=\"1\" class=\"dataframe\">\n",
       "  <thead>\n",
       "    <tr style=\"text-align: right;\">\n",
       "      <th></th>\n",
       "      <th>label</th>\n",
       "      <th>youtube_id</th>\n",
       "      <th>time_start</th>\n",
       "      <th>time_end</th>\n",
       "      <th>split</th>\n",
       "    </tr>\n",
       "  </thead>\n",
       "  <tbody>\n",
       "    <tr>\n",
       "      <th>0</th>\n",
       "      <td>inflating balloons</td>\n",
       "      <td>adpDrnPWaKM</td>\n",
       "      <td>14</td>\n",
       "      <td>24</td>\n",
       "      <td>train</td>\n",
       "    </tr>\n",
       "    <tr>\n",
       "      <th>1</th>\n",
       "      <td>inflating balloons</td>\n",
       "      <td>ADqSnEzMMag</td>\n",
       "      <td>1</td>\n",
       "      <td>11</td>\n",
       "      <td>train</td>\n",
       "    </tr>\n",
       "    <tr>\n",
       "      <th>2</th>\n",
       "      <td>inflating balloons</td>\n",
       "      <td>AEN9SNm4FYM</td>\n",
       "      <td>34</td>\n",
       "      <td>44</td>\n",
       "      <td>train</td>\n",
       "    </tr>\n",
       "    <tr>\n",
       "      <th>3</th>\n",
       "      <td>inflating balloons</td>\n",
       "      <td>aF25RRu86FY</td>\n",
       "      <td>12</td>\n",
       "      <td>22</td>\n",
       "      <td>train</td>\n",
       "    </tr>\n",
       "    <tr>\n",
       "      <th>4</th>\n",
       "      <td>inflating balloons</td>\n",
       "      <td>AFvep7qqbJE</td>\n",
       "      <td>5</td>\n",
       "      <td>15</td>\n",
       "      <td>train</td>\n",
       "    </tr>\n",
       "  </tbody>\n",
       "</table>\n",
       "</div>"
      ],
      "text/plain": [
       "                label   youtube_id  time_start  time_end  split\n",
       "0  inflating balloons  adpDrnPWaKM          14        24  train\n",
       "1  inflating balloons  ADqSnEzMMag           1        11  train\n",
       "2  inflating balloons  AEN9SNm4FYM          34        44  train\n",
       "3  inflating balloons  aF25RRu86FY          12        22  train\n",
       "4  inflating balloons  AFvep7qqbJE           5        15  train"
      ]
     },
     "execution_count": 18,
     "metadata": {
      "tags": []
     },
     "output_type": "execute_result"
    }
   ],
   "source": [
    "new_train1.head()"
   ]
  },
  {
   "cell_type": "markdown",
   "metadata": {
    "id": "bxX-2BrJrGRN"
   },
   "source": [
    "### Saving the new data set"
   ]
  },
  {
   "cell_type": "code",
   "execution_count": null,
   "metadata": {
    "id": "HBSqxQ8hrGRO"
   },
   "outputs": [],
   "source": [
    "# Saving the sample data set to the disk \n",
    "\n",
    "new_train1.to_csv('/content/drive/MyDrive/Technocolabs_Final_Project/kinetics700/sample.csv',index=False)"
   ]
  },
  {
   "cell_type": "code",
   "execution_count": null,
   "metadata": {
    "id": "A1OtIHA6rGRP"
   },
   "outputs": [],
   "source": [
    "from sklearn.datasets import load_files"
   ]
  },
  {
   "cell_type": "markdown",
   "metadata": {
    "id": "4paH1ujUrGRP"
   },
   "source": [
    "### Loading the video files from the directory"
   ]
  },
  {
   "cell_type": "code",
   "execution_count": null,
   "metadata": {
    "id": "TJPBbcixrGRP"
   },
   "outputs": [],
   "source": [
    "# Loading the video files from the directory\n",
    "import os\n",
    "raw = load_files(os.getcwd()+'/drive/MyDrive/Technocolabs_Final_Project/vids',shuffle=False)"
   ]
  },
  {
   "cell_type": "code",
   "execution_count": null,
   "metadata": {
    "colab": {
     "base_uri": "https://localhost:8080/"
    },
    "id": "N0vJHCkQrGRQ",
    "outputId": "a9f5b408-4e3c-4433-c1ef-e5f56fadadb6"
   },
   "outputs": [
    {
     "name": "stdout",
     "output_type": "stream",
     "text": [
      "Total Files are :  96\n",
      "Total targets  are :  96\n",
      "Train files size :  76\n",
      "Train targets size :  76\n",
      "Test file(s) size :  20\n",
      "Test tragets size :  20\n"
     ]
    }
   ],
   "source": [
    "from sklearn.model_selection import train_test_split\n",
    "\n",
    "# Getting the file information located in directory\n",
    "\n",
    "files = raw.filenames # getting the names of the files \n",
    "\n",
    "target = raw.target # labels for the video files\n",
    "\n",
    "# Splitting the data set into train and test\n",
    "\n",
    "train_files,test_files,train_targets,test_targets = train_test_split(files,target,test_size=(0.2),random_state=42)\n",
    "\n",
    "print('Total Files are : ',len(files))\n",
    "\n",
    "print('Total targets  are : ',len(target))\n",
    "\n",
    "print('Train files size : ',train_files.shape[0])\n",
    "print('Train targets size : ',train_targets.shape[0])\n",
    "print('Test file(s) size : ',test_files.shape[0])\n",
    "print('Test tragets size : ',test_targets.shape[0])"
   ]
  },
  {
   "cell_type": "code",
   "execution_count": null,
   "metadata": {
    "colab": {
     "base_uri": "https://localhost:8080/"
    },
    "id": "Ck5YdLSSAX7M",
    "outputId": "aeb2ce12-dc7d-4458-992c-9c27b159f5f9"
   },
   "outputs": [
    {
     "data": {
      "text/plain": [
       "shaking head           10\n",
       "welding                10\n",
       "push up                10\n",
       "celebrating            10\n",
       "golf driving           10\n",
       "eating ice cream       10\n",
       "riding scooter          9\n",
       "breakdancing            9\n",
       "raising eyebrows        9\n",
       "clay pottery making     9\n",
       "Name: labels, dtype: int64"
      ]
     },
     "execution_count": 23,
     "metadata": {
      "tags": []
     },
     "output_type": "execute_result"
    }
   ],
   "source": [
    "df = pd.DataFrame(columns=['labels','label_nums'])\n",
    "labels=[]\n",
    "nums=[]\n",
    "for i in zip(raw.filenames,raw.target):\n",
    "  labels.append(i[0].rsplit('/',2)[1])\n",
    "  nums.append(i[1])\n",
    "\n",
    "from sklearn.preprocessing import LabelEncoder\n",
    "\n",
    "df['labels']=labels\n",
    "df['label_nums'] = nums\n",
    "\n",
    "df['labels'].value_counts()"
   ]
  },
  {
   "cell_type": "code",
   "execution_count": null,
   "metadata": {
    "colab": {
     "base_uri": "https://localhost:8080/",
     "height": 456
    },
    "id": "_0pBuezGWR_Z",
    "outputId": "6cc00b18-4696-4ae2-d2b0-4f740c3f962e"
   },
   "outputs": [
    {
     "data": {
      "image/png": "[encoded data removed]",
      "text/plain": [
       "<Figure size 720x360 with 1 Axes>"
      ]
     },
     "metadata": {
      "needs_background": "light",
      "tags": []
     },
     "output_type": "display_data"
    }
   ],
   "source": [
    "import seaborn as sns\n",
    "plt.figure(figsize=(10,5))\n",
    "ax = sns.barplot(y=df['labels'].value_counts().values,x=df['labels'].value_counts().index)\n",
    "for i in ax.patches:\n",
    "  ax.annotate(str(i.get_height()),(i.get_x()*1.01,i.get_height()*1.01))\n",
    "plt.xticks(rotation=50,fontsize=15)\n",
    "plt.title('Frequency of the videos',fontsize=20)\n",
    "plt.show()"
   ]
  },
  {
   "cell_type": "markdown",
   "metadata": {
    "id": "ZPO3PBvdrGRQ"
   },
   "source": [
    "### Classification of the labels"
   ]
  },
  {
   "cell_type": "code",
   "execution_count": null,
   "metadata": {
    "colab": {
     "base_uri": "https://localhost:8080/"
    },
    "id": "K-M8SYJRrGRQ",
    "outputId": "f1bad0f1-6525-4845-f64b-0bbef7c92cdc",
    "scrolled": false
   },
   "outputs": [
    {
     "name": "stdout",
     "output_type": "stream",
     "text": [
      "(0, 'breakdancing')\n",
      "(1, 'celebrating')\n",
      "(2, 'clay pottery making')\n",
      "(3, 'eating ice cream')\n",
      "(4, 'golf driving')\n",
      "(5, 'push up')\n",
      "(6, 'raising eyebrows')\n",
      "(7, 'riding scooter')\n",
      "(8, 'shaking head')\n",
      "(9, 'welding')\n"
     ]
    }
   ],
   "source": [
    "# Categorical classification of the videos\n",
    "for i in zip(range(0,len(raw.target_names)),raw.target_names):\n",
    "    print(i)"
   ]
  },
  {
   "cell_type": "code",
   "execution_count": null,
   "metadata": {
    "colab": {
     "base_uri": "https://localhost:8080/"
    },
    "id": "Q7nOqlaOrGRR",
    "outputId": "bd63023d-03ab-4e6b-e5a4-bd486aefeb4d"
   },
   "outputs": [
    {
     "data": {
      "text/plain": [
       "array([0, 0, 0, 0, 0, 0, 0, 0, 0, 1, 1, 1, 1, 1, 1, 1, 1, 1, 1, 2, 2, 2,\n",
       "       2, 2, 2, 2, 2, 2, 3, 3, 3, 3, 3, 3, 3, 3, 3, 3, 4, 4, 4, 4, 4, 4,\n",
       "       4, 4, 4, 4, 5, 5, 5, 5, 5, 5, 5, 5, 5, 5, 6, 6, 6, 6, 6, 6, 6, 6,\n",
       "       6, 7, 7, 7, 7, 7, 7, 7, 7, 7, 8, 8, 8, 8, 8, 8, 8, 8, 8, 8, 9, 9,\n",
       "       9, 9, 9, 9, 9, 9, 9, 9])"
      ]
     },
     "execution_count": 26,
     "metadata": {
      "tags": []
     },
     "output_type": "execute_result"
    }
   ],
   "source": [
    "# Checking the target\n",
    "target # Here the numbers means the labels of the categories"
   ]
  },
  {
   "cell_type": "code",
   "execution_count": null,
   "metadata": {
    "colab": {
     "base_uri": "https://localhost:8080/"
    },
    "id": "8FCAm_OnrGRR",
    "outputId": "c24dbcf3-c595-469e-f67f-91e9ab423f15"
   },
   "outputs": [
    {
     "name": "stdout",
     "output_type": "stream",
     "text": [
      "Train files size :  60\n",
      "Train targets size :  60\n",
      "Validation file(s) size :  16\n",
      "Validation tragets size :  16\n",
      "Test file(s) size :  20\n",
      "Test tragets size :  20\n"
     ]
    }
   ],
   "source": [
    "# Splitting the train data for making the validation set\n",
    "valid_files = train_files[60:]\n",
    "valid_targets = train_targets[60:]\n",
    "\n",
    "train_files = train_files[:60]\n",
    "train_targets =  train_targets[:60]\n",
    "\n",
    "print('Train files size : ',train_files.shape[0])\n",
    "print('Train targets size : ',train_targets.shape[0])\n",
    "\n",
    "print('Validation file(s) size : ',valid_files.shape[0])\n",
    "print('Validation tragets size : ',valid_targets.shape[0])\n",
    "\n",
    "print('Test file(s) size : ',test_files.shape[0])\n",
    "print('Test tragets size : ',test_targets.shape[0])"
   ]
  },
  {
   "cell_type": "code",
   "execution_count": null,
   "metadata": {
    "colab": {
     "base_uri": "https://localhost:8080/"
    },
    "id": "zTAHwUkSzg4y",
    "outputId": "bd820c98-7271-406a-9854-4c9ca776f4b0"
   },
   "outputs": [
    {
     "name": "stdout",
     "output_type": "stream",
     "text": [
      "Collecting sk-video\n",
      "\u001b[?25l  Downloading https://files.pythonhosted.org/packages/dd/3f/ce848b8b2062ad1ccf1449094a740c775f6c761339f411e44f1e090f23a7/sk_video-1.1.10-py2.py3-none-any.whl (2.3MB)\n",
      "\u001b[K     |████████████████████████████████| 2.3MB 9.3MB/s \n",
      "\u001b[?25hRequirement already satisfied: numpy in /usr/local/lib/python3.6/dist-packages (from sk-video) (1.18.5)\n",
      "Requirement already satisfied: scipy in /usr/local/lib/python3.6/dist-packages (from sk-video) (1.4.1)\n",
      "Installing collected packages: sk-video\n",
      "Successfully installed sk-video-1.1.10\n"
     ]
    }
   ],
   "source": [
    "pip install sk-video"
   ]
  },
  {
   "cell_type": "code",
   "execution_count": null,
   "metadata": {
    "id": "udyruNTM59nX"
   },
   "outputs": [],
   "source": [
    "import numpy as np\n",
    "from skvideo.io import FFmpegReader, ffprobe\n",
    "from skvideo.utils import rgb2gray\n",
    "from PIL import Image\n",
    "from keras.preprocessing import image\n",
    "from tqdm import tqdm\n",
    "\n",
    "\n",
    "class Videos(object):\n",
    "\n",
    "    def __init__(self, target_size=None, to_gray=True, max_frames=None,\n",
    "                 extract_frames='middle', required_fps=None,\n",
    "                 normalize_pixels=None):\n",
    "        \"\"\"\n",
    "        Initializing the config variables\n",
    "        Parameters:\n",
    "            target_size (tuple): (New_Width, New_Height), Default 'None'\n",
    "                A tuple denoting the target width and height of each frame in each of the video\n",
    "            to_gray (boolean): Default 'True'\n",
    "                If True, then each frame will be converted to gray scale. Otherwise, not.\n",
    "            max_frames (int): Default 'None'\n",
    "                The maximum number of frames to return for each video.\n",
    "                Extra frames are removed based on the value of 'extract_frames'.\n",
    "            extract_frames (str): {'first', 'middle', 'last'}, Default 'middle'\n",
    "                'first': Extract the first 'N' frames\n",
    "                'last': Extract the last 'N' frames\n",
    "                'middle': Extract 'N' frames from the middle\n",
    "                    Remove ((total_frames - max_frames) // 2) frames from the beginning as well as the end\n",
    "            required_fps (int): Default 'None'\n",
    "                Capture 'N' frame(s) per second from the video.\n",
    "                Only the first 'N' frame(s) for each second in the video are captured.\n",
    "            normalize_pixels (tuple/str): Default 'None'\n",
    "                If 'None', the pixels will not be normalized.\n",
    "                If a tuple - (New_min, New_max) is passed, Min-max Normalization will be used.\n",
    "                If the value is 'z-score', then Z-score Normalization will be used.\n",
    "                For each pixel p, z_score = (p - mean) / std\n",
    "        \"\"\"\n",
    "\n",
    "        self.target_size = target_size\n",
    "        self.to_gray = to_gray\n",
    "        self.max_frames = max_frames\n",
    "        self.extract_frames = extract_frames\n",
    "        self.required_fps = required_fps\n",
    "        self.normalize_pixels = normalize_pixels\n",
    "        self.fps = None\n",
    "\n",
    "    def read_videos(self, paths):\n",
    "        \"\"\"\n",
    "        Parameters:\n",
    "            paths (list): Required\n",
    "                 A list of paths of the videos to be read\n",
    "        Returns:\n",
    "            Numpy.ndarray\n",
    "                A 5-d tensor with shape (<No. of Videos>, <No. of frames>, <height>, <width>, <channels>)\n",
    "        \"\"\"\n",
    "\n",
    "        list_of_videos = [\n",
    "            self._read_video(path) for path in tqdm(paths)\n",
    "        ]\n",
    "\n",
    "        tensor = np.vstack(list_of_videos)\n",
    "\n",
    "        if self.normalize_pixels != None:\n",
    "            # Pixels are normalized for each video individually\n",
    "            if (type(self.normalize_pixels) == tuple) and (len(self.normalize_pixels) == 2):\n",
    "                base = self.normalize_pixels[0]\n",
    "                r = self.normalize_pixels[1] - base\n",
    "                min_ = np.min(tensor, axis=(1, 2, 3), keepdims=True)\n",
    "                max_ = np.max(tensor, axis=(1, 2, 3), keepdims=True)\n",
    "                return ((tensor.astype('float32') - min_) / (max_ - min_)) * r + base\n",
    "\n",
    "            elif self.normalize_pixels == 'z-score':\n",
    "                mean = np.mean(tensor, axis=(1, 2, 3), keepdims=True)\n",
    "                std = np.std(tensor, axis=(1, 2, 3), keepdims=True)\n",
    "                return (tensor.astype('float32') - mean) / std\n",
    "            \n",
    "            else:\n",
    "                raise ValueError('Invalid value of \\'normalize_pixels\\'')\n",
    "\n",
    "        return tensor\n",
    "\n",
    "    def get_frame_count(self, paths):\n",
    "        \"\"\"\n",
    "        Can be used to determine the value of `max_frames`\n",
    "        Parameters:\n",
    "            paths (list): Required\n",
    "                 A list of paths of the videos to be read\n",
    "        Returns:\n",
    "            dict (python dictionary)\n",
    "                For each video, the total number of frames in that video is stored in the dictionary.\n",
    "        \"\"\"\n",
    "\n",
    "        frame_count = {}\n",
    "        for path in paths:\n",
    "            cap = FFmpegReader(filename=path)\n",
    "            frame_count[path] = cap.inputframenum\n",
    "            cap.close()\n",
    "\n",
    "        return frame_count\n",
    "\n",
    "    def _read_video(self, path):\n",
    "        \"\"\"\n",
    "        Parameters:\n",
    "            path (str): Required\n",
    "                Path of the video to be read\n",
    "        Returns:\n",
    "            Numpy.ndarray\n",
    "                A 5-d tensor with shape (1, <No. of frames>, <height>, <width>, <channels>)\n",
    "        \"\"\"\n",
    "\n",
    "        cap = FFmpegReader(filename=path)\n",
    "        list_of_frames = []\n",
    "        self.fps = int(cap.inputfps)                  # Frame Rate\n",
    "\n",
    "        for index, frame in enumerate(cap.nextFrame()):\n",
    "\n",
    "            capture_frame = True\n",
    "            if self.required_fps != None:\n",
    "                is_valid = range(self.required_fps)\n",
    "                capture_frame = (index % self.fps) in is_valid\n",
    "\n",
    "            if capture_frame:\n",
    "\n",
    "                if self.target_size is not None:\n",
    "                    temp_image = image.array_to_img(frame)\n",
    "                    frame = image.img_to_array(\n",
    "                        temp_image.resize(\n",
    "                            self.target_size,\n",
    "                            Image.ANTIALIAS)).astype('uint8')\n",
    "\n",
    "                # Shape of each frame -> (<height>, <width>, 3)\n",
    "                list_of_frames.append(frame)\n",
    "\n",
    "        temp_video = np.stack(list_of_frames)\n",
    "        cap.close()\n",
    "\n",
    "        if self.to_gray:\n",
    "            temp_video = rgb2gray(temp_video)\n",
    "                \n",
    "        if self.max_frames is not None:\n",
    "            temp_video = self._process_video(video=temp_video)\n",
    "\n",
    "        return np.expand_dims(temp_video, axis=0)\n",
    "\n",
    "    def _process_video(self, video):\n",
    "        \"\"\"\n",
    "        Parameters:\n",
    "            video (Numpy.ndarray):\n",
    "                Shape = (<No. of frames>, <height>, <width>, <channels>)\n",
    "                Video whose frames are to be extracted\n",
    "        Returns:\n",
    "            Numpy.ndarray\n",
    "                A tensor (processed video) with shape (<`max_frames`>, <height>, <width>, <channels>)\n",
    "        \"\"\"\n",
    "\n",
    "        total_frames = video.shape[0]\n",
    "        if self.max_frames <= total_frames:\n",
    "\n",
    "            if self.extract_frames == 'first':\n",
    "                video = video[:self.max_frames]\n",
    "            elif self.extract_frames == 'last':\n",
    "                video = video[(total_frames - self.max_frames):]\n",
    "            elif self.extract_frames == 'middle':\n",
    "                # No. of frames to remove from the front\n",
    "                front = ((total_frames - self.max_frames) // 2) + 1\n",
    "                video = video[front:(front + self.max_frames)]\n",
    "            else:\n",
    "                raise ValueError('Invalid value of \\'extract_frames\\'')\n",
    "\n",
    "        else:\n",
    "            raise IndexError(\n",
    "                'Required number of frames is greater than the total number of frames in the video')\n",
    "\n",
    "        return video"
   ]
  },
  {
   "cell_type": "code",
   "execution_count": null,
   "metadata": {
    "colab": {
     "base_uri": "https://localhost:8080/"
    },
    "id": "MkzQlDAirGRS",
    "outputId": "450ffa3d-a4d2-474e-b59d-8bc54141ba9f",
    "scrolled": false
   },
   "outputs": [
    {
     "name": "stderr",
     "output_type": "stream",
     "text": [
      "100%|██████████| 1/1 [00:00<00:00,  1.67it/s]"
     ]
    },
    {
     "name": "stdout",
     "output_type": "stream",
     "text": [
      "Sample : \n",
      "\n",
      "Number of videos : 1\n",
      "Frames for each video :  20\n",
      "Dimensions of the frame  height x width:  (360, 480)\n",
      "Colors in the image : 3\n"
     ]
    },
    {
     "name": "stderr",
     "output_type": "stream",
     "text": [
      "\n"
     ]
    },
    {
     "data": {
      "image/png": "[encoded data removed]",
      "text/plain": [
       "<Figure size 432x288 with 1 Axes>"
      ]
     },
     "metadata": {
      "needs_background": "light",
      "tags": []
     },
     "output_type": "display_data"
    }
   ],
   "source": [
    "# Making the sample and checking the video \n",
    "sample_files = train_files[:1]\n",
    "\n",
    "reader = Videos(target_size=None,to_gray=False,max_frames=20)\n",
    "\n",
    "sample = reader.read_videos(sample_files)\n",
    "\n",
    "print(\"Sample : \\n\")\n",
    "print('Number of videos :',sample.shape[0])\n",
    "print('Frames for each video : ',sample.shape[1])\n",
    "print('Dimensions of the frame  height x width: ',(sample.shape[2],sample.shape[3]))\n",
    "print('Colors in the image :',sample.shape[-1])\n",
    "\n",
    "plt.imshow(sample[0][3])\n",
    "plt.show()"
   ]
  },
  {
   "cell_type": "markdown",
   "metadata": {
    "id": "oUrPx9aSrGRS"
   },
   "source": [
    "## Data Preprocessing"
   ]
  },
  {
   "cell_type": "markdown",
   "metadata": {
    "id": "Q_3qcWbNrGRV"
   },
   "source": [
    "### Traininng Dataset\n"
   ]
  },
  {
   "cell_type": "code",
   "execution_count": null,
   "metadata": {
    "colab": {
     "base_uri": "https://localhost:8080/"
    },
    "id": "voYGJwCkrGRW",
    "outputId": "28aadb38-c306-487f-88c8-9fe0c968a95d",
    "scrolled": true
   },
   "outputs": [
    {
     "name": "stderr",
     "output_type": "stream",
     "text": [
      "100%|██████████| 60/60 [00:41<00:00,  1.44it/s]"
     ]
    },
    {
     "name": "stdout",
     "output_type": "stream",
     "text": [
      "\n",
      "Created tensors for the training successfully!!\n"
     ]
    },
    {
     "name": "stderr",
     "output_type": "stream",
     "text": [
      "\n"
     ]
    }
   ],
   "source": [
    "# Training\n",
    "reader = Videos(target_size=(128, 128), \n",
    "                to_gray=True, \n",
    "                max_frames=15, \n",
    "                extract_frames='middle', \n",
    "                required_fps=5, \n",
    "                normalize_pixels=(-1, 1))\n",
    "\n",
    "\n",
    "# Converting the training data videos into tensors\n",
    "x_train = reader.read_videos(train_files)\n",
    "print()\n",
    "print('Created tensors for the training successfully!!')"
   ]
  },
  {
   "cell_type": "code",
   "execution_count": null,
   "metadata": {
    "colab": {
     "base_uri": "https://localhost:8080/"
    },
    "id": "7uW_k_7vrGRY",
    "outputId": "4d0ac465-377a-4ca5-a980-128906e0f55b"
   },
   "outputs": [
    {
     "name": "stdout",
     "output_type": "stream",
     "text": [
      "Training Set : \n",
      "\n",
      "Number of videos : 60\n",
      "Frames for each video :  15\n",
      "Dimensions of the frame  height x width:  (128, 128)\n",
      "Colors in the image : 1\n"
     ]
    }
   ],
   "source": [
    "print(\"Training Set : \\n\")\n",
    "print('Number of videos :',x_train.shape[0])\n",
    "print('Frames for each video : ',x_train.shape[1])\n",
    "print('Dimensions of the frame  height x width: ',(x_train.shape[2],x_train.shape[3]))\n",
    "print('Colors in the image :',x_train.shape[-1])"
   ]
  },
  {
   "cell_type": "code",
   "execution_count": null,
   "metadata": {
    "id": "mkydJSZlrGRY"
   },
   "outputs": [],
   "source": [
    "from keras.utils import to_categorical\n",
    "\n",
    "# Removing the videos which gave the errors on the frame conversion\n",
    "\n",
    "y_train = to_categorical(train_targets)"
   ]
  },
  {
   "cell_type": "code",
   "execution_count": null,
   "metadata": {
    "colab": {
     "base_uri": "https://localhost:8080/"
    },
    "id": "xj4VLd2ZrGRZ",
    "outputId": "5e611c79-2211-40af-82b1-aeb0a1fec1b0"
   },
   "outputs": [
    {
     "name": "stdout",
     "output_type": "stream",
     "text": [
      "[[0. 0. 0. 0. 1. 0. 0. 0. 0. 0.]\n",
      " [0. 0. 0. 0. 0. 0. 0. 1. 0. 0.]\n",
      " [0. 1. 0. 0. 0. 0. 0. 0. 0. 0.]] [4 7 1]\n",
      "Shape of the Y-train : (60, 10)\n"
     ]
    }
   ],
   "source": [
    "print(y_train[:3],train_targets[:3])\n",
    "\n",
    "print('Shape of the Y-train :',y_train.shape)"
   ]
  },
  {
   "cell_type": "markdown",
   "metadata": {
    "id": "Q0gXprd5rGRZ"
   },
   "source": [
    "### Validation set"
   ]
  },
  {
   "cell_type": "code",
   "execution_count": null,
   "metadata": {
    "colab": {
     "base_uri": "https://localhost:8080/"
    },
    "id": "L4W1OFV7rGRZ",
    "outputId": "bf0ceb0f-ce51-484e-b190-32c49d37b217"
   },
   "outputs": [
    {
     "name": "stderr",
     "output_type": "stream",
     "text": [
      "100%|██████████| 16/16 [00:13<00:00,  1.20it/s]"
     ]
    },
    {
     "name": "stdout",
     "output_type": "stream",
     "text": [
      "\n",
      "Created tensors for the validation successfully!!\n"
     ]
    },
    {
     "name": "stderr",
     "output_type": "stream",
     "text": [
      "\n"
     ]
    }
   ],
   "source": [
    "x_valid = reader.read_videos(valid_files)\n",
    "print()\n",
    "print('Created tensors for the validation successfully!!')"
   ]
  },
  {
   "cell_type": "code",
   "execution_count": null,
   "metadata": {
    "colab": {
     "base_uri": "https://localhost:8080/"
    },
    "id": "qWtfZF1OrGRZ",
    "outputId": "179ca475-9fa4-489e-961f-0680f9fe5e7d"
   },
   "outputs": [
    {
     "name": "stdout",
     "output_type": "stream",
     "text": [
      "Validation Set : \n",
      "\n",
      "Number of videos : 16\n",
      "Frames for each video : 15\n",
      "Dimensions of the frame  height x width: (128, 128)\n",
      "Colors in the image : 1\n"
     ]
    }
   ],
   "source": [
    "print(\"Validation Set : \\n\")\n",
    "print('Number of videos :',x_valid.shape[0])\n",
    "print('Frames for each video :',x_valid.shape[1])\n",
    "print('Dimensions of the frame  height x width:',(x_valid.shape[2],x_valid.shape[3]))\n",
    "print('Colors in the image :',x_valid.shape[-1])"
   ]
  },
  {
   "cell_type": "code",
   "execution_count": null,
   "metadata": {
    "colab": {
     "base_uri": "https://localhost:8080/"
    },
    "id": "BYelwRaVK9Ji",
    "outputId": "f5474690-815d-4c71-e3e2-3d13ef4ae510"
   },
   "outputs": [
    {
     "data": {
      "text/plain": [
       "(array(['/content/drive/MyDrive/Technocolabs_Final_Project/vids/eating ice cream/5gFmzOseaCY_105_10.mp4',\n",
       "        '/content/drive/MyDrive/Technocolabs_Final_Project/vids/breakdancing/3VO5K6frvb0_97_10.mp4',\n",
       "        '/content/drive/MyDrive/Technocolabs_Final_Project/vids/push up/LiRRgqFRdss_0_10.mp4',\n",
       "        '/content/drive/MyDrive/Technocolabs_Final_Project/vids/clay pottery making/5cm0s1T7SRM_36_10.mp4',\n",
       "        '/content/drive/MyDrive/Technocolabs_Final_Project/vids/breakdancing/IoFrHzxeCdg_20_10.mp4',\n",
       "        '/content/drive/MyDrive/Technocolabs_Final_Project/vids/clay pottery making/LfrAP7Xddv8_191_10.mp4',\n",
       "        '/content/drive/MyDrive/Technocolabs_Final_Project/vids/welding/CeujcvTqIPQ_34_10.mp4',\n",
       "        '/content/drive/MyDrive/Technocolabs_Final_Project/vids/riding scooter/ma7Q3ormsZk_59_10.mp4',\n",
       "        '/content/drive/MyDrive/Technocolabs_Final_Project/vids/welding/-9awf7U0UYE_145_10.mp4',\n",
       "        '/content/drive/MyDrive/Technocolabs_Final_Project/vids/shaking head/a2hGThVqjWU_18_10.mp4',\n",
       "        '/content/drive/MyDrive/Technocolabs_Final_Project/vids/clay pottery making/0WHlTQUp5oY_51_10.mp4',\n",
       "        '/content/drive/MyDrive/Technocolabs_Final_Project/vids/raising eyebrows/F-bKNcBuVco_0_10.mp4',\n",
       "        '/content/drive/MyDrive/Technocolabs_Final_Project/vids/riding scooter/SJc0kWaztwM_80_10.mp4',\n",
       "        '/content/drive/MyDrive/Technocolabs_Final_Project/vids/celebrating/flk1-9GTjec_36_10.mp4',\n",
       "        '/content/drive/MyDrive/Technocolabs_Final_Project/vids/welding/Zi1gKDInnCQ_41_10.mp4',\n",
       "        '/content/drive/MyDrive/Technocolabs_Final_Project/vids/push up/KaBuOQuKz9k_89_10.mp4'],\n",
       "       dtype='<U97'), array([3, 0, 5, 2, 0, 2, 9, 7, 9, 8, 2, 6, 7, 1, 9, 5]))"
      ]
     },
     "execution_count": 37,
     "metadata": {
      "tags": []
     },
     "output_type": "execute_result"
    }
   ],
   "source": [
    "valid_files,valid_targets"
   ]
  },
  {
   "cell_type": "code",
   "execution_count": null,
   "metadata": {
    "colab": {
     "base_uri": "https://localhost:8080/"
    },
    "id": "zwRRU56wMNa4",
    "outputId": "60d01374-7cfb-4b04-9181-1c854d6ed556"
   },
   "outputs": [
    {
     "data": {
      "text/plain": [
       "(array([[0., 0., 0., 1., 0., 0., 0., 0., 0., 0.],\n",
       "        [1., 0., 0., 0., 0., 0., 0., 0., 0., 0.],\n",
       "        [0., 0., 0., 0., 0., 1., 0., 0., 0., 0.],\n",
       "        [0., 0., 1., 0., 0., 0., 0., 0., 0., 0.],\n",
       "        [1., 0., 0., 0., 0., 0., 0., 0., 0., 0.],\n",
       "        [0., 0., 1., 0., 0., 0., 0., 0., 0., 0.],\n",
       "        [0., 0., 0., 0., 0., 0., 0., 0., 0., 1.],\n",
       "        [0., 0., 0., 0., 0., 0., 0., 1., 0., 0.],\n",
       "        [0., 0., 0., 0., 0., 0., 0., 0., 0., 1.],\n",
       "        [0., 0., 0., 0., 0., 0., 0., 0., 1., 0.],\n",
       "        [0., 0., 1., 0., 0., 0., 0., 0., 0., 0.],\n",
       "        [0., 0., 0., 0., 0., 0., 1., 0., 0., 0.],\n",
       "        [0., 0., 0., 0., 0., 0., 0., 1., 0., 0.],\n",
       "        [0., 1., 0., 0., 0., 0., 0., 0., 0., 0.],\n",
       "        [0., 0., 0., 0., 0., 0., 0., 0., 0., 1.],\n",
       "        [0., 0., 0., 0., 0., 1., 0., 0., 0., 0.]], dtype=float32),\n",
       " array([3, 0, 5, 2, 0, 2, 9, 7, 9, 8, 2, 6, 7, 1, 9, 5]))"
      ]
     },
     "execution_count": 38,
     "metadata": {
      "tags": []
     },
     "output_type": "execute_result"
    }
   ],
   "source": [
    "y_valid = to_categorical(valid_targets)\n",
    "\n",
    "y_valid,valid_targets"
   ]
  },
  {
   "cell_type": "code",
   "execution_count": null,
   "metadata": {
    "colab": {
     "base_uri": "https://localhost:8080/"
    },
    "id": "kTPksgJdI2QX",
    "outputId": "d467a200-355c-431d-ab47-7f5c285c9405"
   },
   "outputs": [
    {
     "data": {
      "text/plain": [
       "(16, 10)"
      ]
     },
     "execution_count": 39,
     "metadata": {
      "tags": []
     },
     "output_type": "execute_result"
    }
   ],
   "source": [
    "y_valid.shape"
   ]
  },
  {
   "cell_type": "markdown",
   "metadata": {
    "id": "lbZQl9ROrGRa"
   },
   "source": [
    "### Test data "
   ]
  },
  {
   "cell_type": "code",
   "execution_count": null,
   "metadata": {
    "colab": {
     "base_uri": "https://localhost:8080/"
    },
    "id": "qfxzBg0-rGRb",
    "outputId": "e8b36552-4889-4d72-e606-52b6c2774a05",
    "scrolled": true
   },
   "outputs": [
    {
     "name": "stderr",
     "output_type": "stream",
     "text": [
      "100%|██████████| 19/19 [00:14<00:00,  1.32it/s]"
     ]
    },
    {
     "name": "stdout",
     "output_type": "stream",
     "text": [
      "\n",
      "Created tensors for the testing successfully!!\n"
     ]
    },
    {
     "name": "stderr",
     "output_type": "stream",
     "text": [
      "\n"
     ]
    }
   ],
   "source": [
    "x_test = reader.read_videos(np.delete(test_files,[1]))\n",
    "print()\n",
    "print('Created tensors for the testing successfully!!')"
   ]
  },
  {
   "cell_type": "code",
   "execution_count": null,
   "metadata": {
    "colab": {
     "base_uri": "https://localhost:8080/"
    },
    "id": "xir-0g2ZrGRb",
    "outputId": "ee7986de-0ccc-4115-dc50-c7bfdf38436a"
   },
   "outputs": [
    {
     "name": "stdout",
     "output_type": "stream",
     "text": [
      "Test Set : \n",
      "\n",
      "Number of videos : 19\n",
      "Frames for each video : 15\n",
      "Dimensions of the frame  height x width: (128, 128)\n",
      "Colors in the image : 1\n"
     ]
    }
   ],
   "source": [
    "print(\"Test Set : \\n\")\n",
    "print('Number of videos :',x_test.shape[0])\n",
    "print('Frames for each video :',x_test.shape[1])\n",
    "print('Dimensions of the frame  height x width:',(x_test.shape[2],x_test.shape[3]))\n",
    "print('Colors in the image :',x_test.shape[-1])"
   ]
  },
  {
   "cell_type": "code",
   "execution_count": null,
   "metadata": {
    "colab": {
     "base_uri": "https://localhost:8080/"
    },
    "id": "xj7UZR6RrGRc",
    "outputId": "ebb2903c-b4c0-465e-f6c6-739e053628e3"
   },
   "outputs": [
    {
     "name": "stdout",
     "output_type": "stream",
     "text": [
      "[[0. 0. 0. 0. 0. 0. 0. 0. 1. 0.]\n",
      " [0. 0. 0. 0. 0. 0. 0. 1. 0. 0.]\n",
      " [0. 0. 0. 0. 0. 0. 0. 0. 0. 1.]\n",
      " [0. 0. 0. 1. 0. 0. 0. 0. 0. 0.]\n",
      " [0. 0. 0. 0. 0. 0. 0. 0. 1. 0.]\n",
      " [0. 0. 0. 0. 0. 0. 0. 1. 0. 0.]\n",
      " [0. 0. 0. 0. 1. 0. 0. 0. 0. 0.]\n",
      " [1. 0. 0. 0. 0. 0. 0. 0. 0. 0.]\n",
      " [0. 1. 0. 0. 0. 0. 0. 0. 0. 0.]\n",
      " [0. 0. 0. 0. 0. 0. 1. 0. 0. 0.]\n",
      " [0. 0. 0. 1. 0. 0. 0. 0. 0. 0.]\n",
      " [0. 1. 0. 0. 0. 0. 0. 0. 0. 0.]\n",
      " [1. 0. 0. 0. 0. 0. 0. 0. 0. 0.]\n",
      " [0. 0. 0. 1. 0. 0. 0. 0. 0. 0.]\n",
      " [0. 0. 1. 0. 0. 0. 0. 0. 0. 0.]\n",
      " [0. 1. 0. 0. 0. 0. 0. 0. 0. 0.]\n",
      " [0. 0. 1. 0. 0. 0. 0. 0. 0. 0.]\n",
      " [0. 0. 0. 0. 0. 1. 0. 0. 0. 0.]\n",
      " [0. 0. 0. 0. 0. 0. 0. 0. 1. 0.]] [8 7 9 3 8 7 4 0 1 6 3 1 0 3 2 1 2 5 8]\n",
      "Shape of the y_test : (19, 10)\n"
     ]
    }
   ],
   "source": [
    "y_test = to_categorical(np.delete(test_targets,[1]),num_classes=10)\n",
    "\n",
    "print(y_test,np.delete(test_targets,[1]))\n",
    "\n",
    "print('Shape of the y_test :',y_test.shape)"
   ]
  },
  {
   "cell_type": "markdown",
   "metadata": {
    "id": "szzJGMc8rGRd"
   },
   "source": [
    "### Constructing the models"
   ]
  },
  {
   "cell_type": "markdown",
   "metadata": {
    "id": "IBblx_JuvIEH"
   },
   "source": [
    "# New Section"
   ]
  },
  {
   "cell_type": "code",
   "execution_count": null,
   "metadata": {
    "id": "Ri3mpIScS28M"
   },
   "outputs": [],
   "source": [
    "# Imports\n",
    "from keras.models import Sequential\n",
    "from keras.layers import Conv3D, MaxPooling3D, GlobalAveragePooling3D, BatchNormalization\n",
    "from keras.layers.core import Dense, Dropout\n",
    "\n",
    "# Using the Sequential Model\n",
    "\n",
    "def Dmodel(output_unit,dense_unit_ini=32,dropout_unit=0.5):\n",
    "  model = Sequential()\n",
    "\n",
    "  # Adding Alternate convolutional and pooling layers\n",
    "  model.add(Conv3D(filters=16, kernel_size=(5, 3, 3), strides=(1, 1, 1), padding='same', activation='relu', \n",
    "                  input_shape=x_train.shape[1:]))\n",
    "  model.add(MaxPooling3D(pool_size=2, strides=(2, 2, 2), padding='same'))\n",
    "\n",
    "  model.add(Conv3D(filters=64, kernel_size=(2, 3, 3), strides=(1, 1, 1), padding='valid', activation='relu'))\n",
    "  model.add(MaxPooling3D(pool_size=2, strides=(2, 2, 2), padding='same'))\n",
    "\n",
    "  model.add(Conv3D(filters=256, kernel_size=(2, 3, 3), strides=(1, 1, 1), padding='valid', activation='relu'))\n",
    "  model.add(MaxPooling3D(pool_size=2, strides=(2, 2, 2), padding='same'))\n",
    "\n",
    "  model.add(Conv3D(filters=1024, kernel_size=(2, 3, 3), strides=(1, 1, 1), padding='valid', activation='relu'))\n",
    "  model.add(MaxPooling3D(pool_size=2, strides=(2, 2, 2), padding='same'))\n",
    "\n",
    "  # A global average pooling layer to get a 1-d vector\n",
    "  # The vector will have a depth (same as number of elements in the vector) of 1024\n",
    "  model.add(GlobalAveragePooling3D())\n",
    "\n",
    "  # Hidden layer\n",
    "  model.add(Dense(dense_unit_ini, activation='relu'))\n",
    "\n",
    "  # Dropout Layer\n",
    "  model.add(Dropout(dropout_unit))\n",
    "\n",
    "  # Output layer\n",
    "  model.add(Dense(output_unit, activation='sigmoid'))\n",
    "\n",
    "  print(model.summary())\n",
    "\n",
    "  return model"
   ]
  },
  {
   "cell_type": "code",
   "execution_count": null,
   "metadata": {
    "colab": {
     "base_uri": "https://localhost:8080/"
    },
    "id": "zCZU_pVW5-oe",
    "outputId": "0cf457c3-b4be-4918-dae0-fb57b71218b5"
   },
   "outputs": [
    {
     "name": "stdout",
     "output_type": "stream",
     "text": [
      "Model: \"sequential\"\n",
      "_________________________________________________________________\n",
      "Layer (type)                 Output Shape              Param #   \n",
      "=================================================================\n",
      "conv3d (Conv3D)              (None, 15, 128, 128, 16)  736       \n",
      "_________________________________________________________________\n",
      "max_pooling3d (MaxPooling3D) (None, 8, 64, 64, 16)     0         \n",
      "_________________________________________________________________\n",
      "conv3d_1 (Conv3D)            (None, 7, 62, 62, 64)     18496     \n",
      "_________________________________________________________________\n",
      "max_pooling3d_1 (MaxPooling3 (None, 4, 31, 31, 64)     0         \n",
      "_________________________________________________________________\n",
      "conv3d_2 (Conv3D)            (None, 3, 29, 29, 256)    295168    \n",
      "_________________________________________________________________\n",
      "max_pooling3d_2 (MaxPooling3 (None, 2, 15, 15, 256)    0         \n",
      "_________________________________________________________________\n",
      "conv3d_3 (Conv3D)            (None, 1, 13, 13, 1024)   4719616   \n",
      "_________________________________________________________________\n",
      "max_pooling3d_3 (MaxPooling3 (None, 1, 7, 7, 1024)     0         \n",
      "_________________________________________________________________\n",
      "global_average_pooling3d (Gl (None, 1024)              0         \n",
      "_________________________________________________________________\n",
      "dense (Dense)                (None, 32)                32800     \n",
      "_________________________________________________________________\n",
      "dropout (Dropout)            (None, 32)                0         \n",
      "_________________________________________________________________\n",
      "dense_1 (Dense)              (None, 10)                330       \n",
      "=================================================================\n",
      "Total params: 5,067,146\n",
      "Trainable params: 5,067,146\n",
      "Non-trainable params: 0\n",
      "_________________________________________________________________\n",
      "None\n"
     ]
    }
   ],
   "source": [
    "tf.random.set_seed(0)\n",
    "\n",
    "model = Dmodel(output_unit=y_train.shape[1])"
   ]
  },
  {
   "cell_type": "code",
   "execution_count": null,
   "metadata": {
    "colab": {
     "base_uri": "https://localhost:8080/"
    },
    "id": "_AQx7naf5-lJ",
    "outputId": "8c9f14e4-ed3f-484c-aaa6-43497284638e"
   },
   "outputs": [
    {
     "name": "stdout",
     "output_type": "stream",
     "text": [
      "Epoch 1/50\n",
      " 1/15 [=>............................] - ETA: 0s - loss: 2.3055 - accuracy: 0.2500WARNING:tensorflow:Callbacks method `on_train_batch_end` is slow compared to the batch time (batch time: 0.0103s vs `on_train_batch_end` time: 0.0357s). Check your callbacks.\n",
      "15/15 [==============================] - ETA: 0s - loss: 2.3106 - accuracy: 0.1333WARNING:tensorflow:Callbacks method `on_test_batch_end` is slow compared to the batch time (batch time: 0.0034s vs `on_test_batch_end` time: 0.0085s). Check your callbacks.\n",
      "\n",
      "Epoch 00001: val_loss improved from inf to 2.35857, saving model to Model_1.weights.best.hdf5\n",
      "15/15 [==============================] - 1s 65ms/step - loss: 2.3106 - accuracy: 0.1333 - val_loss: 2.3586 - val_accuracy: 0.0000e+00\n",
      "Epoch 2/50\n",
      "15/15 [==============================] - ETA: 0s - loss: 2.2887 - accuracy: 0.1333\n",
      "Epoch 00002: val_loss did not improve from 2.35857\n",
      "15/15 [==============================] - 1s 47ms/step - loss: 2.2887 - accuracy: 0.1333 - val_loss: 2.4460 - val_accuracy: 0.0000e+00\n",
      "Epoch 3/50\n",
      "14/15 [===========================>..] - ETA: 0s - loss: 2.2814 - accuracy: 0.1786\n",
      "Epoch 00003: val_loss improved from 2.35857 to 2.31523, saving model to Model_1.weights.best.hdf5\n",
      "15/15 [==============================] - 1s 57ms/step - loss: 2.2857 - accuracy: 0.1667 - val_loss: 2.3152 - val_accuracy: 0.0000e+00\n",
      "Epoch 4/50\n",
      "15/15 [==============================] - ETA: 0s - loss: 2.2832 - accuracy: 0.1167\n",
      "Epoch 00004: val_loss did not improve from 2.31523\n",
      "15/15 [==============================] - 1s 48ms/step - loss: 2.2832 - accuracy: 0.1167 - val_loss: 2.3596 - val_accuracy: 0.0000e+00\n",
      "Epoch 5/50\n",
      "15/15 [==============================] - ETA: 0s - loss: 2.2515 - accuracy: 0.1500\n",
      "Epoch 00005: val_loss did not improve from 2.31523\n",
      "15/15 [==============================] - 1s 47ms/step - loss: 2.2515 - accuracy: 0.1500 - val_loss: 2.3784 - val_accuracy: 0.0000e+00\n",
      "Epoch 6/50\n",
      "15/15 [==============================] - ETA: 0s - loss: 2.2633 - accuracy: 0.1500\n",
      "Epoch 00006: val_loss did not improve from 2.31523\n",
      "15/15 [==============================] - 1s 47ms/step - loss: 2.2633 - accuracy: 0.1500 - val_loss: 2.3973 - val_accuracy: 0.0000e+00\n",
      "Epoch 7/50\n",
      "15/15 [==============================] - ETA: 0s - loss: 2.2526 - accuracy: 0.0833\n",
      "Epoch 00007: val_loss did not improve from 2.31523\n",
      "15/15 [==============================] - 1s 48ms/step - loss: 2.2526 - accuracy: 0.0833 - val_loss: 2.3742 - val_accuracy: 0.0000e+00\n",
      "Epoch 8/50\n",
      "15/15 [==============================] - ETA: 0s - loss: 2.1962 - accuracy: 0.2000\n",
      "Epoch 00008: val_loss did not improve from 2.31523\n",
      "15/15 [==============================] - 1s 48ms/step - loss: 2.1962 - accuracy: 0.2000 - val_loss: 2.6407 - val_accuracy: 0.0000e+00\n",
      "Epoch 9/50\n",
      "15/15 [==============================] - ETA: 0s - loss: 2.2629 - accuracy: 0.1167\n",
      "Epoch 00009: val_loss improved from 2.31523 to 2.30872, saving model to Model_1.weights.best.hdf5\n",
      "15/15 [==============================] - 1s 56ms/step - loss: 2.2629 - accuracy: 0.1167 - val_loss: 2.3087 - val_accuracy: 0.0000e+00\n",
      "Epoch 10/50\n",
      "15/15 [==============================] - ETA: 0s - loss: 2.2660 - accuracy: 0.1167\n",
      "Epoch 00010: val_loss did not improve from 2.30872\n",
      "15/15 [==============================] - 1s 47ms/step - loss: 2.2660 - accuracy: 0.1167 - val_loss: 2.3591 - val_accuracy: 0.0000e+00\n",
      "Epoch 11/50\n",
      "15/15 [==============================] - ETA: 0s - loss: 2.2460 - accuracy: 0.1667\n",
      "Epoch 00011: val_loss did not improve from 2.30872\n",
      "15/15 [==============================] - 1s 48ms/step - loss: 2.2460 - accuracy: 0.1667 - val_loss: 2.4627 - val_accuracy: 0.0000e+00\n",
      "Epoch 12/50\n",
      "15/15 [==============================] - ETA: 0s - loss: 2.2306 - accuracy: 0.1333\n",
      "Epoch 00012: val_loss did not improve from 2.30872\n",
      "15/15 [==============================] - 1s 48ms/step - loss: 2.2306 - accuracy: 0.1333 - val_loss: 2.3444 - val_accuracy: 0.0000e+00\n",
      "Epoch 13/50\n",
      "15/15 [==============================] - ETA: 0s - loss: 2.3015 - accuracy: 0.1000\n",
      "Epoch 00013: val_loss did not improve from 2.30872\n",
      "15/15 [==============================] - 1s 48ms/step - loss: 2.3015 - accuracy: 0.1000 - val_loss: 2.3159 - val_accuracy: 0.0000e+00\n",
      "Epoch 14/50\n",
      "15/15 [==============================] - ETA: 0s - loss: 2.2377 - accuracy: 0.1500\n",
      "Epoch 00014: val_loss did not improve from 2.30872\n",
      "15/15 [==============================] - 1s 48ms/step - loss: 2.2377 - accuracy: 0.1500 - val_loss: 2.4450 - val_accuracy: 0.0000e+00\n",
      "Epoch 15/50\n",
      "15/15 [==============================] - ETA: 0s - loss: 2.1860 - accuracy: 0.1833\n",
      "Epoch 00015: val_loss did not improve from 2.30872\n",
      "15/15 [==============================] - 1s 47ms/step - loss: 2.1860 - accuracy: 0.1833 - val_loss: 2.5464 - val_accuracy: 0.0000e+00\n",
      "Epoch 16/50\n",
      "15/15 [==============================] - ETA: 0s - loss: 2.1480 - accuracy: 0.1000\n",
      "Epoch 00016: val_loss did not improve from 2.30872\n",
      "15/15 [==============================] - 1s 49ms/step - loss: 2.1480 - accuracy: 0.1000 - val_loss: 2.6085 - val_accuracy: 0.0000e+00\n",
      "Epoch 17/50\n",
      "15/15 [==============================] - ETA: 0s - loss: 2.1709 - accuracy: 0.2167\n",
      "Epoch 00017: val_loss did not improve from 2.30872\n",
      "15/15 [==============================] - 1s 48ms/step - loss: 2.1709 - accuracy: 0.2167 - val_loss: 2.3764 - val_accuracy: 0.0000e+00\n",
      "Epoch 18/50\n",
      "15/15 [==============================] - ETA: 0s - loss: 2.1701 - accuracy: 0.2167\n",
      "Epoch 00018: val_loss did not improve from 2.30872\n",
      "15/15 [==============================] - 1s 48ms/step - loss: 2.1701 - accuracy: 0.2167 - val_loss: 2.4501 - val_accuracy: 0.0625\n",
      "Epoch 19/50\n",
      "15/15 [==============================] - ETA: 0s - loss: 2.1123 - accuracy: 0.1833\n",
      "Epoch 00019: val_loss did not improve from 2.30872\n",
      "15/15 [==============================] - 1s 48ms/step - loss: 2.1123 - accuracy: 0.1833 - val_loss: 2.6096 - val_accuracy: 0.0000e+00\n",
      "Epoch 20/50\n",
      "15/15 [==============================] - ETA: 0s - loss: 2.1338 - accuracy: 0.1667\n",
      "Epoch 00020: val_loss did not improve from 2.30872\n",
      "15/15 [==============================] - 1s 48ms/step - loss: 2.1338 - accuracy: 0.1667 - val_loss: 2.5205 - val_accuracy: 0.0625\n",
      "Epoch 21/50\n",
      "15/15 [==============================] - ETA: 0s - loss: 2.1521 - accuracy: 0.2167\n",
      "Epoch 00021: val_loss did not improve from 2.30872\n",
      "15/15 [==============================] - 1s 48ms/step - loss: 2.1521 - accuracy: 0.2167 - val_loss: 2.6693 - val_accuracy: 0.0000e+00\n",
      "Epoch 22/50\n",
      "15/15 [==============================] - ETA: 0s - loss: 2.1624 - accuracy: 0.1833\n",
      "Epoch 00022: val_loss did not improve from 2.30872\n",
      "15/15 [==============================] - 1s 49ms/step - loss: 2.1624 - accuracy: 0.1833 - val_loss: 2.6705 - val_accuracy: 0.0625\n",
      "Epoch 23/50\n",
      "15/15 [==============================] - ETA: 0s - loss: 2.2010 - accuracy: 0.1500\n",
      "Epoch 00023: val_loss did not improve from 2.30872\n",
      "15/15 [==============================] - 1s 48ms/step - loss: 2.2010 - accuracy: 0.1500 - val_loss: 2.5543 - val_accuracy: 0.1250\n",
      "Epoch 24/50\n",
      "15/15 [==============================] - ETA: 0s - loss: 2.0020 - accuracy: 0.2000\n",
      "Epoch 00024: val_loss did not improve from 2.30872\n",
      "15/15 [==============================] - 1s 48ms/step - loss: 2.0020 - accuracy: 0.2000 - val_loss: 2.7756 - val_accuracy: 0.0625\n",
      "Epoch 25/50\n",
      "15/15 [==============================] - ETA: 0s - loss: 2.0533 - accuracy: 0.2667\n",
      "Epoch 00025: val_loss did not improve from 2.30872\n",
      "15/15 [==============================] - 1s 48ms/step - loss: 2.0533 - accuracy: 0.2667 - val_loss: 3.5349 - val_accuracy: 0.0000e+00\n",
      "Epoch 26/50\n",
      "15/15 [==============================] - ETA: 0s - loss: 2.1475 - accuracy: 0.2167\n",
      "Epoch 00026: val_loss did not improve from 2.30872\n",
      "15/15 [==============================] - 1s 49ms/step - loss: 2.1475 - accuracy: 0.2167 - val_loss: 2.6946 - val_accuracy: 0.0625\n",
      "Epoch 27/50\n",
      "15/15 [==============================] - ETA: 0s - loss: 2.0965 - accuracy: 0.1500\n",
      "Epoch 00027: val_loss did not improve from 2.30872\n",
      "15/15 [==============================] - 1s 48ms/step - loss: 2.0965 - accuracy: 0.1500 - val_loss: 2.7245 - val_accuracy: 0.0625\n",
      "Epoch 28/50\n",
      "15/15 [==============================] - ETA: 0s - loss: 2.0005 - accuracy: 0.2667\n",
      "Epoch 00028: val_loss did not improve from 2.30872\n",
      "15/15 [==============================] - 1s 48ms/step - loss: 2.0005 - accuracy: 0.2667 - val_loss: 2.8806 - val_accuracy: 0.0625\n",
      "Epoch 29/50\n",
      "14/15 [===========================>..] - ETA: 0s - loss: 2.1310 - accuracy: 0.1964\n",
      "Epoch 00029: val_loss did not improve from 2.30872\n",
      "15/15 [==============================] - 1s 49ms/step - loss: 2.1224 - accuracy: 0.2000 - val_loss: 3.0286 - val_accuracy: 0.0000e+00\n",
      "Epoch 30/50\n",
      "15/15 [==============================] - ETA: 0s - loss: 2.0215 - accuracy: 0.2667\n",
      "Epoch 00030: val_loss did not improve from 2.30872\n",
      "15/15 [==============================] - 1s 49ms/step - loss: 2.0215 - accuracy: 0.2667 - val_loss: 2.8227 - val_accuracy: 0.1250\n",
      "Epoch 31/50\n",
      "15/15 [==============================] - ETA: 0s - loss: 1.9651 - accuracy: 0.2333\n",
      "Epoch 00031: val_loss did not improve from 2.30872\n",
      "15/15 [==============================] - 1s 48ms/step - loss: 1.9651 - accuracy: 0.2333 - val_loss: 2.8240 - val_accuracy: 0.1250\n",
      "Epoch 32/50\n",
      "15/15 [==============================] - ETA: 0s - loss: 1.9557 - accuracy: 0.2667\n",
      "Epoch 00032: val_loss did not improve from 2.30872\n",
      "15/15 [==============================] - 1s 49ms/step - loss: 1.9557 - accuracy: 0.2667 - val_loss: 3.5329 - val_accuracy: 0.0000e+00\n",
      "Epoch 33/50\n",
      "15/15 [==============================] - ETA: 0s - loss: 1.9831 - accuracy: 0.2000\n",
      "Epoch 00033: val_loss did not improve from 2.30872\n",
      "15/15 [==============================] - 1s 48ms/step - loss: 1.9831 - accuracy: 0.2000 - val_loss: 3.3367 - val_accuracy: 0.1250\n",
      "Epoch 34/50\n",
      "15/15 [==============================] - ETA: 0s - loss: 1.9150 - accuracy: 0.2500\n",
      "Epoch 00034: val_loss did not improve from 2.30872\n",
      "15/15 [==============================] - 1s 48ms/step - loss: 1.9150 - accuracy: 0.2500 - val_loss: 2.8400 - val_accuracy: 0.1875\n",
      "Epoch 35/50\n",
      "15/15 [==============================] - ETA: 0s - loss: 2.0048 - accuracy: 0.3167\n",
      "Epoch 00035: val_loss did not improve from 2.30872\n",
      "15/15 [==============================] - 1s 48ms/step - loss: 2.0048 - accuracy: 0.3167 - val_loss: 3.7173 - val_accuracy: 0.1250\n",
      "Epoch 36/50\n",
      "14/15 [===========================>..] - ETA: 0s - loss: 1.9113 - accuracy: 0.2679\n",
      "Epoch 00036: val_loss did not improve from 2.30872\n",
      "15/15 [==============================] - 1s 49ms/step - loss: 1.9140 - accuracy: 0.2833 - val_loss: 3.0764 - val_accuracy: 0.0625\n",
      "Epoch 37/50\n",
      "15/15 [==============================] - ETA: 0s - loss: 1.8857 - accuracy: 0.3333\n",
      "Epoch 00037: val_loss did not improve from 2.30872\n",
      "15/15 [==============================] - 1s 49ms/step - loss: 1.8857 - accuracy: 0.3333 - val_loss: 3.2198 - val_accuracy: 0.0625\n",
      "Epoch 38/50\n",
      "15/15 [==============================] - ETA: 0s - loss: 1.8257 - accuracy: 0.3500\n",
      "Epoch 00038: val_loss did not improve from 2.30872\n",
      "15/15 [==============================] - 1s 48ms/step - loss: 1.8257 - accuracy: 0.3500 - val_loss: 3.5004 - val_accuracy: 0.0625\n",
      "Epoch 39/50\n",
      "14/15 [===========================>..] - ETA: 0s - loss: 1.7928 - accuracy: 0.2857\n",
      "Epoch 00039: val_loss did not improve from 2.30872\n",
      "15/15 [==============================] - 1s 49ms/step - loss: 1.7843 - accuracy: 0.3000 - val_loss: 3.7278 - val_accuracy: 0.0000e+00\n",
      "Epoch 40/50\n",
      "15/15 [==============================] - ETA: 0s - loss: 1.8764 - accuracy: 0.2833\n",
      "Epoch 00040: val_loss did not improve from 2.30872\n",
      "15/15 [==============================] - 1s 49ms/step - loss: 1.8764 - accuracy: 0.2833 - val_loss: 3.1391 - val_accuracy: 0.1875\n",
      "Epoch 41/50\n",
      "15/15 [==============================] - ETA: 0s - loss: 1.8647 - accuracy: 0.2167\n",
      "Epoch 00041: val_loss did not improve from 2.30872\n",
      "15/15 [==============================] - 1s 49ms/step - loss: 1.8647 - accuracy: 0.2167 - val_loss: 2.8747 - val_accuracy: 0.0625\n",
      "Epoch 42/50\n",
      "15/15 [==============================] - ETA: 0s - loss: 1.8424 - accuracy: 0.2500\n",
      "Epoch 00042: val_loss did not improve from 2.30872\n",
      "15/15 [==============================] - 1s 48ms/step - loss: 1.8424 - accuracy: 0.2500 - val_loss: 3.4634 - val_accuracy: 0.0625\n",
      "Epoch 43/50\n",
      "15/15 [==============================] - ETA: 0s - loss: 1.7356 - accuracy: 0.3833\n",
      "Epoch 00043: val_loss did not improve from 2.30872\n",
      "15/15 [==============================] - 1s 49ms/step - loss: 1.7356 - accuracy: 0.3833 - val_loss: 4.2741 - val_accuracy: 0.0000e+00\n",
      "Epoch 44/50\n",
      "15/15 [==============================] - ETA: 0s - loss: 1.8857 - accuracy: 0.4167\n",
      "Epoch 00044: val_loss did not improve from 2.30872\n",
      "15/15 [==============================] - 1s 49ms/step - loss: 1.8857 - accuracy: 0.4167 - val_loss: 2.7759 - val_accuracy: 0.1875\n",
      "Epoch 45/50\n",
      "15/15 [==============================] - ETA: 0s - loss: 1.9859 - accuracy: 0.2667\n",
      "Epoch 00045: val_loss did not improve from 2.30872\n",
      "15/15 [==============================] - 1s 49ms/step - loss: 1.9859 - accuracy: 0.2667 - val_loss: 2.9691 - val_accuracy: 0.1250\n",
      "Epoch 46/50\n",
      "15/15 [==============================] - ETA: 0s - loss: 1.8062 - accuracy: 0.3167\n",
      "Epoch 00046: val_loss did not improve from 2.30872\n",
      "15/15 [==============================] - 1s 49ms/step - loss: 1.8062 - accuracy: 0.3167 - val_loss: 3.4029 - val_accuracy: 0.1250\n",
      "Epoch 47/50\n",
      "15/15 [==============================] - ETA: 0s - loss: 1.6380 - accuracy: 0.3667\n",
      "Epoch 00047: val_loss did not improve from 2.30872\n",
      "15/15 [==============================] - 1s 49ms/step - loss: 1.6380 - accuracy: 0.3667 - val_loss: 3.7445 - val_accuracy: 0.1250\n",
      "Epoch 48/50\n",
      "15/15 [==============================] - ETA: 0s - loss: 1.6531 - accuracy: 0.3333\n",
      "Epoch 00048: val_loss did not improve from 2.30872\n",
      "15/15 [==============================] - 1s 49ms/step - loss: 1.6531 - accuracy: 0.3333 - val_loss: 4.0418 - val_accuracy: 0.0625\n",
      "Epoch 49/50\n",
      "15/15 [==============================] - ETA: 0s - loss: 1.8226 - accuracy: 0.3167\n",
      "Epoch 00049: val_loss did not improve from 2.30872\n",
      "15/15 [==============================] - 1s 49ms/step - loss: 1.8226 - accuracy: 0.3167 - val_loss: 3.2560 - val_accuracy: 0.1875\n",
      "Epoch 50/50\n",
      "15/15 [==============================] - ETA: 0s - loss: 1.9642 - accuracy: 0.2500\n",
      "Epoch 00050: val_loss did not improve from 2.30872\n",
      "15/15 [==============================] - 1s 49ms/step - loss: 1.9642 - accuracy: 0.2500 - val_loss: 3.0114 - val_accuracy: 0.1250\n"
     ]
    }
   ],
   "source": [
    "from keras.callbacks import ModelCheckpoint\n",
    "\n",
    "# Compiling the model\n",
    "model.compile(loss='categorical_crossentropy', optimizer='adam', metrics=['accuracy'],)\n",
    "\n",
    "# Saving the model that performed the best on the validation set\n",
    "checkpoint = ModelCheckpoint(filepath='Model_1.weights.best.hdf5', save_best_only=True, verbose=1)\n",
    "\n",
    "# Training the model for 40 epochs\n",
    "history = model.fit(x_train, y_train, batch_size=4, epochs=50, \n",
    "                    validation_data=(x_valid, y_valid), verbose=1, callbacks=[checkpoint])"
   ]
  },
  {
   "cell_type": "code",
   "execution_count": null,
   "metadata": {
    "colab": {
     "base_uri": "https://localhost:8080/"
    },
    "id": "5KL0d36j5-ij",
    "outputId": "0664aa90-2558-419b-a8e5-eea4df4476b9"
   },
   "outputs": [
    {
     "name": "stdout",
     "output_type": "stream",
     "text": [
      "Accuracy on train data: 16.67%\n"
     ]
    }
   ],
   "source": [
    "# Loading the model that performed the best on the validation set\n",
    "model.load_weights('Model_1.weights.best.hdf5')\n",
    "\n",
    "# Testing the model on the Test data\n",
    "(loss, accuracy) = model.evaluate(x_train,y_train, batch_size=4, verbose=0)\n",
    "\n",
    "print('Accuracy on train data: {:.2f}%'.format(accuracy * 100))"
   ]
  },
  {
   "cell_type": "code",
   "execution_count": null,
   "metadata": {
    "colab": {
     "base_uri": "https://localhost:8080/"
    },
    "id": "EImUN4jW5-ee",
    "outputId": "6ea8ec81-6cb6-4ed5-c231-39cd4127ca7d"
   },
   "outputs": [
    {
     "name": "stdout",
     "output_type": "stream",
     "text": [
      "Accuracy on test data: 5.26%\n"
     ]
    }
   ],
   "source": [
    "# Loading the model that performed the best on the validation set\n",
    "model.load_weights('Model_1.weights.best.hdf5')\n",
    "\n",
    "# Testing the model on the Test data\n",
    "(loss, accuracy) = model.evaluate(x_test, y_test, batch_size=4, verbose=0)\n",
    "\n",
    "print('Accuracy on test data: {:.2f}%'.format(accuracy * 100))"
   ]
  },
  {
   "cell_type": "code",
   "execution_count": null,
   "metadata": {
    "colab": {
     "base_uri": "https://localhost:8080/",
     "height": 501
    },
    "id": "zZ1lzIhz5-a-",
    "outputId": "b45212a5-7eb2-4715-f91e-15dce2753ece"
   },
   "outputs": [
    {
     "data": {
      "text/plain": [
       "<matplotlib.legend.Legend at 0x7f21f01d76a0>"
      ]
     },
     "execution_count": 48,
     "metadata": {
      "tags": []
     },
     "output_type": "execute_result"
    },
    {
     "data": {
      "image/png": "[encoded data removed]",
      "text/plain": [
       "<Figure size 864x576 with 1 Axes>"
      ]
     },
     "metadata": {
      "needs_background": "light",
      "tags": []
     },
     "output_type": "display_data"
    }
   ],
   "source": [
    "# Making the plot larger\n",
    "plt.figure(figsize=(12, 8))\n",
    "\n",
    "loss = history.history['loss']                          # Loss on the training data\n",
    "val_loss = history.history['val_loss']                  # Loss on the validation data\n",
    "epochs = range(1,51)\n",
    "# Plot for the training and validation losses\n",
    "plt.plot(epochs, loss, 'ro-', label='Training Loss')\n",
    "plt.plot(epochs, val_loss, 'go-', label = 'Validation Loss')\n",
    "plt.legend()"
   ]
  },
  {
   "cell_type": "code",
   "execution_count": null,
   "metadata": {
    "colab": {
     "base_uri": "https://localhost:8080/"
    },
    "id": "Kesd6SeOZziF",
    "outputId": "bb8ab9fe-db6b-46df-80db-ba9339134505"
   },
   "outputs": [
    {
     "name": "stdout",
     "output_type": "stream",
     "text": [
      "Model: \"sequential_1\"\n",
      "_________________________________________________________________\n",
      "Layer (type)                 Output Shape              Param #   \n",
      "=================================================================\n",
      "conv3d_4 (Conv3D)            (None, 15, 128, 128, 16)  736       \n",
      "_________________________________________________________________\n",
      "max_pooling3d_4 (MaxPooling3 (None, 8, 64, 64, 16)     0         \n",
      "_________________________________________________________________\n",
      "conv3d_5 (Conv3D)            (None, 7, 62, 62, 64)     18496     \n",
      "_________________________________________________________________\n",
      "max_pooling3d_5 (MaxPooling3 (None, 4, 31, 31, 64)     0         \n",
      "_________________________________________________________________\n",
      "conv3d_6 (Conv3D)            (None, 3, 29, 29, 256)    295168    \n",
      "_________________________________________________________________\n",
      "max_pooling3d_6 (MaxPooling3 (None, 2, 15, 15, 256)    0         \n",
      "_________________________________________________________________\n",
      "conv3d_7 (Conv3D)            (None, 1, 13, 13, 1024)   4719616   \n",
      "_________________________________________________________________\n",
      "max_pooling3d_7 (MaxPooling3 (None, 1, 7, 7, 1024)     0         \n",
      "_________________________________________________________________\n",
      "global_average_pooling3d_1 ( (None, 1024)              0         \n",
      "_________________________________________________________________\n",
      "dense_2 (Dense)              (None, 10)                10250     \n",
      "_________________________________________________________________\n",
      "dropout_1 (Dropout)          (None, 10)                0         \n",
      "_________________________________________________________________\n",
      "dense_3 (Dense)              (None, 10)                110       \n",
      "=================================================================\n",
      "Total params: 5,044,376\n",
      "Trainable params: 5,044,376\n",
      "Non-trainable params: 0\n",
      "_________________________________________________________________\n",
      "None\n"
     ]
    }
   ],
   "source": [
    "# Model 2\n",
    "model1 = Dmodel(output_unit=y_train.shape[1],dense_unit_ini=10,dropout_unit=0.5)"
   ]
  },
  {
   "cell_type": "code",
   "execution_count": null,
   "metadata": {
    "colab": {
     "base_uri": "https://localhost:8080/"
    },
    "id": "rlDJPS6AaJ2d",
    "outputId": "545fcf36-0ef8-4ad3-ff84-cbff81e6228b"
   },
   "outputs": [
    {
     "name": "stdout",
     "output_type": "stream",
     "text": [
      "Epoch 1/50\n",
      " 2/15 [===>..........................] - ETA: 0s - loss: 0.6822 - accuracy: 0.0000e+00WARNING:tensorflow:Callbacks method `on_train_batch_end` is slow compared to the batch time (batch time: 0.0091s vs `on_train_batch_end` time: 0.0413s). Check your callbacks.\n",
      "15/15 [==============================] - ETA: 0s - loss: 0.7154 - accuracy: 0.0833WARNING:tensorflow:Callbacks method `on_test_batch_end` is slow compared to the batch time (batch time: 0.0034s vs `on_test_batch_end` time: 0.0083s). Check your callbacks.\n",
      "\n",
      "Epoch 00001: val_loss improved from inf to 0.58523, saving model to Model_2.weights.best.hdf5\n",
      "15/15 [==============================] - 1s 68ms/step - loss: 0.7154 - accuracy: 0.0833 - val_loss: 0.5852 - val_accuracy: 0.0625\n",
      "Epoch 2/50\n",
      "14/15 [===========================>..] - ETA: 0s - loss: 0.6309 - accuracy: 0.0893\n",
      "Epoch 00002: val_loss improved from 0.58523 to 0.56918, saving model to Model_2.weights.best.hdf5\n",
      "15/15 [==============================] - 1s 60ms/step - loss: 0.6289 - accuracy: 0.0833 - val_loss: 0.5692 - val_accuracy: 0.1250\n",
      "Epoch 3/50\n",
      "15/15 [==============================] - ETA: 0s - loss: 0.6117 - accuracy: 0.1167\n",
      "Epoch 00003: val_loss did not improve from 0.56918\n",
      "15/15 [==============================] - 1s 53ms/step - loss: 0.6117 - accuracy: 0.1167 - val_loss: 0.5797 - val_accuracy: 0.0625\n",
      "Epoch 4/50\n",
      "15/15 [==============================] - ETA: 0s - loss: 0.6130 - accuracy: 0.0667\n",
      "Epoch 00004: val_loss improved from 0.56918 to 0.45599, saving model to Model_2.weights.best.hdf5\n",
      "15/15 [==============================] - 1s 62ms/step - loss: 0.6130 - accuracy: 0.0667 - val_loss: 0.4560 - val_accuracy: 0.1250\n",
      "Epoch 5/50\n",
      "15/15 [==============================] - ETA: 0s - loss: 0.5662 - accuracy: 0.1833\n",
      "Epoch 00005: val_loss did not improve from 0.45599\n",
      "15/15 [==============================] - 1s 53ms/step - loss: 0.5662 - accuracy: 0.1833 - val_loss: 0.5218 - val_accuracy: 0.0625\n",
      "Epoch 6/50\n",
      "15/15 [==============================] - ETA: 0s - loss: 0.5718 - accuracy: 0.0833\n",
      "Epoch 00006: val_loss did not improve from 0.45599\n",
      "15/15 [==============================] - 1s 53ms/step - loss: 0.5718 - accuracy: 0.0833 - val_loss: 0.4663 - val_accuracy: 0.1875\n",
      "Epoch 7/50\n",
      "14/15 [===========================>..] - ETA: 0s - loss: 0.5518 - accuracy: 0.0357\n",
      "Epoch 00007: val_loss did not improve from 0.45599\n",
      "15/15 [==============================] - 1s 52ms/step - loss: 0.5566 - accuracy: 0.0333 - val_loss: 0.5027 - val_accuracy: 0.1250\n",
      "Epoch 8/50\n",
      "15/15 [==============================] - ETA: 0s - loss: 0.5695 - accuracy: 0.0833\n",
      "Epoch 00008: val_loss did not improve from 0.45599\n",
      "15/15 [==============================] - 1s 55ms/step - loss: 0.5695 - accuracy: 0.0833 - val_loss: 0.4688 - val_accuracy: 0.0625\n",
      "Epoch 9/50\n",
      "15/15 [==============================] - ETA: 0s - loss: 0.5214 - accuracy: 0.1333\n",
      "Epoch 00009: val_loss improved from 0.45599 to 0.45078, saving model to Model_2.weights.best.hdf5\n",
      "15/15 [==============================] - 1s 62ms/step - loss: 0.5214 - accuracy: 0.1333 - val_loss: 0.4508 - val_accuracy: 0.1250\n",
      "Epoch 10/50\n",
      "15/15 [==============================] - ETA: 0s - loss: 0.5363 - accuracy: 0.0333\n",
      "Epoch 00010: val_loss improved from 0.45078 to 0.44841, saving model to Model_2.weights.best.hdf5\n",
      "15/15 [==============================] - 2s 116ms/step - loss: 0.5363 - accuracy: 0.0333 - val_loss: 0.4484 - val_accuracy: 0.0625\n",
      "Epoch 11/50\n",
      "15/15 [==============================] - ETA: 0s - loss: 0.5254 - accuracy: 0.0500\n",
      "Epoch 00011: val_loss improved from 0.44841 to 0.41404, saving model to Model_2.weights.best.hdf5\n",
      "15/15 [==============================] - 1s 66ms/step - loss: 0.5254 - accuracy: 0.0500 - val_loss: 0.4140 - val_accuracy: 0.0625\n",
      "Epoch 12/50\n",
      "14/15 [===========================>..] - ETA: 0s - loss: 0.4900 - accuracy: 0.1250\n",
      "Epoch 00012: val_loss improved from 0.41404 to 0.37183, saving model to Model_2.weights.best.hdf5\n",
      "15/15 [==============================] - 1s 62ms/step - loss: 0.4913 - accuracy: 0.1167 - val_loss: 0.3718 - val_accuracy: 0.0625\n",
      "Epoch 13/50\n",
      "15/15 [==============================] - ETA: 0s - loss: 0.4534 - accuracy: 0.1000\n",
      "Epoch 00013: val_loss improved from 0.37183 to 0.37131, saving model to Model_2.weights.best.hdf5\n",
      "15/15 [==============================] - 2s 115ms/step - loss: 0.4534 - accuracy: 0.1000 - val_loss: 0.3713 - val_accuracy: 0.0625\n",
      "Epoch 14/50\n",
      "15/15 [==============================] - ETA: 0s - loss: 0.4574 - accuracy: 0.1667\n",
      "Epoch 00014: val_loss did not improve from 0.37131\n",
      "15/15 [==============================] - 1s 54ms/step - loss: 0.4574 - accuracy: 0.1667 - val_loss: 0.3737 - val_accuracy: 0.0625\n",
      "Epoch 15/50\n",
      "14/15 [===========================>..] - ETA: 0s - loss: 0.4880 - accuracy: 0.0893\n",
      "Epoch 00015: val_loss did not improve from 0.37131\n",
      "15/15 [==============================] - 1s 53ms/step - loss: 0.4850 - accuracy: 0.0833 - val_loss: 0.3761 - val_accuracy: 0.1250\n",
      "Epoch 16/50\n",
      "14/15 [===========================>..] - ETA: 0s - loss: 0.4591 - accuracy: 0.1071\n",
      "Epoch 00016: val_loss did not improve from 0.37131\n",
      "15/15 [==============================] - 1s 54ms/step - loss: 0.4625 - accuracy: 0.1000 - val_loss: 0.3813 - val_accuracy: 0.1250\n",
      "Epoch 17/50\n",
      "15/15 [==============================] - ETA: 0s - loss: 0.4491 - accuracy: 0.1333\n",
      "Epoch 00017: val_loss improved from 0.37131 to 0.34316, saving model to Model_2.weights.best.hdf5\n",
      "15/15 [==============================] - 1s 62ms/step - loss: 0.4491 - accuracy: 0.1333 - val_loss: 0.3432 - val_accuracy: 0.0625\n",
      "Epoch 18/50\n",
      "15/15 [==============================] - ETA: 0s - loss: 0.5116 - accuracy: 0.0833\n",
      "Epoch 00018: val_loss did not improve from 0.34316\n",
      "15/15 [==============================] - 1s 53ms/step - loss: 0.5116 - accuracy: 0.0833 - val_loss: 0.3970 - val_accuracy: 0.1250\n",
      "Epoch 19/50\n",
      "15/15 [==============================] - ETA: 0s - loss: 0.4262 - accuracy: 0.1833\n",
      "Epoch 00019: val_loss did not improve from 0.34316\n",
      "15/15 [==============================] - 1s 54ms/step - loss: 0.4262 - accuracy: 0.1833 - val_loss: 0.3439 - val_accuracy: 0.1250\n",
      "Epoch 20/50\n",
      "15/15 [==============================] - ETA: 0s - loss: 0.4454 - accuracy: 0.1667\n",
      "Epoch 00020: val_loss did not improve from 0.34316\n",
      "15/15 [==============================] - 1s 54ms/step - loss: 0.4454 - accuracy: 0.1667 - val_loss: 0.3740 - val_accuracy: 0.0625\n",
      "Epoch 21/50\n",
      "14/15 [===========================>..] - ETA: 0s - loss: 0.4559 - accuracy: 0.0714\n",
      "Epoch 00021: val_loss did not improve from 0.34316\n",
      "15/15 [==============================] - 1s 54ms/step - loss: 0.4502 - accuracy: 0.0667 - val_loss: 0.3641 - val_accuracy: 0.0625\n",
      "Epoch 22/50\n",
      "15/15 [==============================] - ETA: 0s - loss: 0.4460 - accuracy: 0.1000\n",
      "Epoch 00022: val_loss did not improve from 0.34316\n",
      "15/15 [==============================] - 1s 55ms/step - loss: 0.4460 - accuracy: 0.1000 - val_loss: 0.3641 - val_accuracy: 0.0625\n",
      "Epoch 23/50\n",
      "14/15 [===========================>..] - ETA: 0s - loss: 0.4277 - accuracy: 0.1071\n",
      "Epoch 00023: val_loss did not improve from 0.34316\n",
      "15/15 [==============================] - 1s 54ms/step - loss: 0.4276 - accuracy: 0.1000 - val_loss: 0.3514 - val_accuracy: 0.1250\n",
      "Epoch 24/50\n",
      "15/15 [==============================] - ETA: 0s - loss: 0.4122 - accuracy: 0.1167\n",
      "Epoch 00024: val_loss did not improve from 0.34316\n",
      "15/15 [==============================] - 1s 54ms/step - loss: 0.4122 - accuracy: 0.1167 - val_loss: 0.3496 - val_accuracy: 0.0000e+00\n",
      "Epoch 25/50\n",
      "15/15 [==============================] - ETA: 0s - loss: 0.4016 - accuracy: 0.1167\n",
      "Epoch 00025: val_loss improved from 0.34316 to 0.33523, saving model to Model_2.weights.best.hdf5\n",
      "15/15 [==============================] - 1s 63ms/step - loss: 0.4016 - accuracy: 0.1167 - val_loss: 0.3352 - val_accuracy: 0.0000e+00\n",
      "Epoch 26/50\n",
      "15/15 [==============================] - ETA: 0s - loss: 0.4228 - accuracy: 0.1667\n",
      "Epoch 00026: val_loss did not improve from 0.33523\n",
      "15/15 [==============================] - 1s 54ms/step - loss: 0.4228 - accuracy: 0.1667 - val_loss: 0.3376 - val_accuracy: 0.0000e+00\n",
      "Epoch 27/50\n",
      "15/15 [==============================] - ETA: 0s - loss: 0.4163 - accuracy: 0.1833\n",
      "Epoch 00027: val_loss did not improve from 0.33523\n",
      "15/15 [==============================] - 1s 53ms/step - loss: 0.4163 - accuracy: 0.1833 - val_loss: 0.3512 - val_accuracy: 0.0000e+00\n",
      "Epoch 28/50\n",
      "15/15 [==============================] - ETA: 0s - loss: 0.3898 - accuracy: 0.1500\n",
      "Epoch 00028: val_loss did not improve from 0.33523\n",
      "15/15 [==============================] - 1s 54ms/step - loss: 0.3898 - accuracy: 0.1500 - val_loss: 0.3425 - val_accuracy: 0.0000e+00\n",
      "Epoch 29/50\n",
      "15/15 [==============================] - ETA: 0s - loss: 0.4176 - accuracy: 0.0833\n",
      "Epoch 00029: val_loss did not improve from 0.33523\n",
      "15/15 [==============================] - 1s 55ms/step - loss: 0.4176 - accuracy: 0.0833 - val_loss: 0.3473 - val_accuracy: 0.0000e+00\n",
      "Epoch 30/50\n",
      "15/15 [==============================] - ETA: 0s - loss: 0.3958 - accuracy: 0.2167\n",
      "Epoch 00030: val_loss did not improve from 0.33523\n",
      "15/15 [==============================] - 1s 54ms/step - loss: 0.3958 - accuracy: 0.2167 - val_loss: 0.3389 - val_accuracy: 0.0000e+00\n",
      "Epoch 31/50\n",
      "15/15 [==============================] - ETA: 0s - loss: 0.4086 - accuracy: 0.1500\n",
      "Epoch 00031: val_loss did not improve from 0.33523\n",
      "15/15 [==============================] - 1s 54ms/step - loss: 0.4086 - accuracy: 0.1500 - val_loss: 0.3542 - val_accuracy: 0.0000e+00\n",
      "Epoch 32/50\n",
      "15/15 [==============================] - ETA: 0s - loss: 0.4191 - accuracy: 0.1167\n",
      "Epoch 00032: val_loss did not improve from 0.33523\n",
      "15/15 [==============================] - 1s 54ms/step - loss: 0.4191 - accuracy: 0.1167 - val_loss: 0.3418 - val_accuracy: 0.0000e+00\n",
      "Epoch 33/50\n",
      "14/15 [===========================>..] - ETA: 0s - loss: 0.3982 - accuracy: 0.1607\n",
      "Epoch 00033: val_loss improved from 0.33523 to 0.33507, saving model to Model_2.weights.best.hdf5\n",
      "15/15 [==============================] - 1s 62ms/step - loss: 0.4005 - accuracy: 0.1500 - val_loss: 0.3351 - val_accuracy: 0.0000e+00\n",
      "Epoch 34/50\n",
      "15/15 [==============================] - ETA: 0s - loss: 0.3811 - accuracy: 0.1833\n",
      "Epoch 00034: val_loss did not improve from 0.33507\n",
      "15/15 [==============================] - 1s 54ms/step - loss: 0.3811 - accuracy: 0.1833 - val_loss: 0.3401 - val_accuracy: 0.0625\n",
      "Epoch 35/50\n",
      "15/15 [==============================] - ETA: 0s - loss: 0.3992 - accuracy: 0.1167\n",
      "Epoch 00035: val_loss did not improve from 0.33507\n",
      "15/15 [==============================] - 1s 54ms/step - loss: 0.3992 - accuracy: 0.1167 - val_loss: 0.3401 - val_accuracy: 0.0625\n",
      "Epoch 36/50\n",
      "14/15 [===========================>..] - ETA: 0s - loss: 0.4034 - accuracy: 0.1071\n",
      "Epoch 00036: val_loss did not improve from 0.33507\n",
      "15/15 [==============================] - 1s 55ms/step - loss: 0.4015 - accuracy: 0.1167 - val_loss: 0.3656 - val_accuracy: 0.0000e+00\n",
      "Epoch 37/50\n",
      "15/15 [==============================] - ETA: 0s - loss: 0.3898 - accuracy: 0.1333\n",
      "Epoch 00037: val_loss did not improve from 0.33507\n",
      "15/15 [==============================] - 1s 55ms/step - loss: 0.3898 - accuracy: 0.1333 - val_loss: 0.3523 - val_accuracy: 0.0000e+00\n",
      "Epoch 38/50\n",
      "15/15 [==============================] - ETA: 0s - loss: 0.3930 - accuracy: 0.1167\n",
      "Epoch 00038: val_loss did not improve from 0.33507\n",
      "15/15 [==============================] - 1s 54ms/step - loss: 0.3930 - accuracy: 0.1167 - val_loss: 0.3481 - val_accuracy: 0.0000e+00\n",
      "Epoch 39/50\n",
      "15/15 [==============================] - ETA: 0s - loss: 0.3754 - accuracy: 0.2167\n",
      "Epoch 00039: val_loss did not improve from 0.33507\n",
      "15/15 [==============================] - 1s 55ms/step - loss: 0.3754 - accuracy: 0.2167 - val_loss: 0.3389 - val_accuracy: 0.0000e+00\n",
      "Epoch 40/50\n",
      "15/15 [==============================] - ETA: 0s - loss: 0.4016 - accuracy: 0.1667\n",
      "Epoch 00040: val_loss did not improve from 0.33507\n",
      "15/15 [==============================] - 1s 55ms/step - loss: 0.4016 - accuracy: 0.1667 - val_loss: 0.3495 - val_accuracy: 0.0000e+00\n",
      "Epoch 41/50\n",
      "15/15 [==============================] - ETA: 0s - loss: 0.3900 - accuracy: 0.1667\n",
      "Epoch 00041: val_loss did not improve from 0.33507\n",
      "15/15 [==============================] - 1s 55ms/step - loss: 0.3900 - accuracy: 0.1667 - val_loss: 0.3471 - val_accuracy: 0.0000e+00\n",
      "Epoch 42/50\n",
      "15/15 [==============================] - ETA: 0s - loss: 0.3818 - accuracy: 0.0667\n",
      "Epoch 00042: val_loss did not improve from 0.33507\n",
      "15/15 [==============================] - 1s 55ms/step - loss: 0.3818 - accuracy: 0.0667 - val_loss: 0.3357 - val_accuracy: 0.0000e+00\n",
      "Epoch 43/50\n",
      "14/15 [===========================>..] - ETA: 0s - loss: 0.3735 - accuracy: 0.1429\n",
      "Epoch 00043: val_loss did not improve from 0.33507\n",
      "15/15 [==============================] - 1s 55ms/step - loss: 0.3722 - accuracy: 0.1500 - val_loss: 0.3471 - val_accuracy: 0.0000e+00\n",
      "Epoch 44/50\n",
      "15/15 [==============================] - ETA: 0s - loss: 0.3626 - accuracy: 0.2000\n",
      "Epoch 00044: val_loss did not improve from 0.33507\n",
      "15/15 [==============================] - 1s 56ms/step - loss: 0.3626 - accuracy: 0.2000 - val_loss: 0.4149 - val_accuracy: 0.0000e+00\n",
      "Epoch 45/50\n",
      "15/15 [==============================] - ETA: 0s - loss: 0.3892 - accuracy: 0.1167\n",
      "Epoch 00045: val_loss did not improve from 0.33507\n",
      "15/15 [==============================] - 1s 57ms/step - loss: 0.3892 - accuracy: 0.1167 - val_loss: 0.3549 - val_accuracy: 0.0000e+00\n",
      "Epoch 46/50\n",
      "15/15 [==============================] - ETA: 0s - loss: 0.3519 - accuracy: 0.2333\n",
      "Epoch 00046: val_loss did not improve from 0.33507\n",
      "15/15 [==============================] - 1s 55ms/step - loss: 0.3519 - accuracy: 0.2333 - val_loss: 0.3383 - val_accuracy: 0.0000e+00\n",
      "Epoch 47/50\n",
      "15/15 [==============================] - ETA: 0s - loss: 0.3765 - accuracy: 0.1167\n",
      "Epoch 00047: val_loss did not improve from 0.33507\n",
      "15/15 [==============================] - 1s 55ms/step - loss: 0.3765 - accuracy: 0.1167 - val_loss: 0.3473 - val_accuracy: 0.0625\n",
      "Epoch 48/50\n",
      "15/15 [==============================] - ETA: 0s - loss: 0.3524 - accuracy: 0.1667\n",
      "Epoch 00048: val_loss did not improve from 0.33507\n",
      "15/15 [==============================] - 1s 55ms/step - loss: 0.3524 - accuracy: 0.1667 - val_loss: 0.3529 - val_accuracy: 0.0000e+00\n",
      "Epoch 49/50\n",
      "15/15 [==============================] - ETA: 0s - loss: 0.3844 - accuracy: 0.1500\n",
      "Epoch 00049: val_loss did not improve from 0.33507\n",
      "15/15 [==============================] - 1s 55ms/step - loss: 0.3844 - accuracy: 0.1500 - val_loss: 0.3433 - val_accuracy: 0.0625\n",
      "Epoch 50/50\n",
      "14/15 [===========================>..] - ETA: 0s - loss: 0.3556 - accuracy: 0.2143\n",
      "Epoch 00050: val_loss did not improve from 0.33507\n",
      "15/15 [==============================] - 1s 55ms/step - loss: 0.3587 - accuracy: 0.2167 - val_loss: 0.3414 - val_accuracy: 0.0625\n"
     ]
    }
   ],
   "source": [
    "from keras.callbacks import ModelCheckpoint\n",
    "\n",
    "# Compiling the model\n",
    "model1.compile(loss='binary_crossentropy', optimizer='nadam', metrics=['accuracy'],)\n",
    "\n",
    "# Saving the model that performed the best on the validation set\n",
    "checkpoint = ModelCheckpoint(filepath='Model_2.weights.best.hdf5', save_best_only=True, verbose=1)\n",
    "\n",
    "# Training the model for 40 epochs\n",
    "history = model1.fit(x_train, y_train, batch_size=4, epochs=50, \n",
    "                    validation_data=(x_valid, y_valid), verbose=1, callbacks=[checkpoint])"
   ]
  },
  {
   "cell_type": "code",
   "execution_count": null,
   "metadata": {
    "colab": {
     "base_uri": "https://localhost:8080/"
    },
    "id": "P-KKueQsnDTx",
    "outputId": "995138c4-3a38-468a-a0d8-55e4d1a75067"
   },
   "outputs": [
    {
     "name": "stdout",
     "output_type": "stream",
     "text": [
      "Accuracy on train data: 20.00%\n"
     ]
    }
   ],
   "source": [
    "# Loading the model that performed the best on the validation set\n",
    "model1.load_weights('Model_2.weights.best.hdf5')\n",
    "\n",
    "# Testing the model on the Train data\n",
    "(loss, accuracy) = model1.evaluate(x_train,y_train, batch_size=4, verbose=0)\n",
    "\n",
    "print('Accuracy on train data: {:.2f}%'.format(accuracy * 100))"
   ]
  },
  {
   "cell_type": "code",
   "execution_count": null,
   "metadata": {
    "colab": {
     "base_uri": "https://localhost:8080/"
    },
    "id": "NqbvmQwEnDEX",
    "outputId": "0b24a06f-a4b6-49cf-fa3e-8f05c5c5557e"
   },
   "outputs": [
    {
     "name": "stdout",
     "output_type": "stream",
     "text": [
      "Accuracy on test data: 10.53%\n"
     ]
    }
   ],
   "source": [
    "# Loading the model that performed the best on the validation set\n",
    "model1.load_weights('Model_2.weights.best.hdf5')\n",
    "\n",
    "# Testing the model on the Test data\n",
    "(loss, accuracy) = model1.evaluate(x_test, y_test, batch_size=4, verbose=0)\n",
    "\n",
    "print('Accuracy on test data: {:.2f}%'.format(accuracy * 100))"
   ]
  },
  {
   "cell_type": "code",
   "execution_count": null,
   "metadata": {
    "colab": {
     "base_uri": "https://localhost:8080/",
     "height": 501
    },
    "id": "P8QW1XalnKVb",
    "outputId": "7c79cdda-e6bf-43f7-9845-d36bd2fb1391"
   },
   "outputs": [
    {
     "data": {
      "text/plain": [
       "<matplotlib.legend.Legend at 0x7f219e100ef0>"
      ]
     },
     "execution_count": 53,
     "metadata": {
      "tags": []
     },
     "output_type": "execute_result"
    },
    {
     "data": {
      "image/png": "[encoded data removed]",
      "text/plain": [
       "<Figure size 864x576 with 1 Axes>"
      ]
     },
     "metadata": {
      "needs_background": "light",
      "tags": []
     },
     "output_type": "display_data"
    }
   ],
   "source": [
    "# Making the plot larger\n",
    "plt.figure(figsize=(12, 8))\n",
    "\n",
    "loss = history.history['loss']                          # Loss on the training data\n",
    "val_loss = history.history['val_loss']                  # Loss on the validation data\n",
    "epochs = range(1,51)\n",
    "\n",
    "plt.plot(epochs, loss, 'ro-', label='Training Loss')\n",
    "plt.plot(epochs, val_loss, 'go-', label = 'Validation Loss')\n",
    "plt.legend()"
   ]
  },
  {
   "cell_type": "code",
   "execution_count": null,
   "metadata": {
    "id": "qc6mAMlbkW1-"
   },
   "outputs": [],
   "source": [
    "model1.save('final_model.h5')"
   ]
  },
  {
   "cell_type": "code",
   "execution_count": null,
   "metadata": {
    "id": "kAEK4rhcGciU"
   },
   "outputs": [],
   "source": [
    "test123 = load_files('/content/drive/MyDrive/Technocolabs_Final_Project/abc',shuffle=False)"
   ]
  },
  {
   "cell_type": "code",
   "execution_count": null,
   "metadata": {
    "id": "cOS5cw5945G-"
   },
   "outputs": [],
   "source": [
    "testf = test123.filenames"
   ]
  },
  {
   "cell_type": "code",
   "execution_count": null,
   "metadata": {
    "colab": {
     "base_uri": "https://localhost:8080/"
    },
    "id": "Uik_pKjY3Xxm",
    "outputId": "4cac108b-8f95-406d-e7f1-7ff4e583c279"
   },
   "outputs": [
    {
     "name": "stderr",
     "output_type": "stream",
     "text": [
      "100%|██████████| 4/4 [00:03<00:00,  1.21it/s]\n"
     ]
    }
   ],
   "source": [
    "a = reader.read_videos(testf)"
   ]
  },
  {
   "cell_type": "code",
   "execution_count": null,
   "metadata": {
    "colab": {
     "base_uri": "https://localhost:8080/"
    },
    "id": "vG7nelxc4tFx",
    "outputId": "2b5370c7-4837-4ef9-e7fc-3c29a02936c5"
   },
   "outputs": [
    {
     "name": "stdout",
     "output_type": "stream",
     "text": [
      "WARNING:tensorflow:From <ipython-input-58-73a583531b3f>:1: Sequential.predict_classes (from tensorflow.python.keras.engine.sequential) is deprecated and will be removed after 2021-01-01.\n",
      "Instructions for updating:\n",
      "Please use instead:* `np.argmax(model.predict(x), axis=-1)`,   if your model does multi-class classification   (e.g. if it uses a `softmax` last-layer activation).* `(model.predict(x) > 0.5).astype(\"int32\")`,   if your model does binary classification   (e.g. if it uses a `sigmoid` last-layer activation).\n"
     ]
    },
    {
     "data": {
      "text/plain": [
       "array([4, 4, 4, 4])"
      ]
     },
     "execution_count": 58,
     "metadata": {
      "tags": []
     },
     "output_type": "execute_result"
    }
   ],
   "source": [
    "model1.predict_classes(a)"
   ]
  },
  {
   "cell_type": "code",
   "execution_count": null,
   "metadata": {
    "colab": {
     "base_uri": "https://localhost:8080/",
     "height": 286
    },
    "id": "etqVFh9E6RHJ",
    "outputId": "8b2171f9-0982-4b2a-ec9e-78d9f91ef6b6"
   },
   "outputs": [
    {
     "data": {
      "text/plain": [
       "<matplotlib.image.AxesImage at 0x7f219e0b30b8>"
      ]
     },
     "execution_count": 59,
     "metadata": {
      "tags": []
     },
     "output_type": "execute_result"
    },
    {
     "data": {
      "image/png": "[encoded data removed]",
      "text/plain": [
       "<Figure size 432x288 with 1 Axes>"
      ]
     },
     "metadata": {
      "needs_background": "light",
      "tags": []
     },
     "output_type": "display_data"
    }
   ],
   "source": [
    "plt.imshow(np.squeeze(a[0][2]))"
   ]
  },
  {
   "cell_type": "code",
   "execution_count": null,
   "metadata": {
    "id": "X001znvY7t9F"
   },
   "outputs": [],
   "source": [
    "df.to_csv('dataframe.csv',index=False)"
   ]
  },
  {
   "cell_type": "code",
   "execution_count": null,
   "metadata": {
    "id": "gZ7pCh4xLadN"
   },
   "outputs": [],
   "source": []
  }
 ],
 "metadata": {
  "accelerator": "GPU",
  "colab": {
   "collapsed_sections": [
    "hxP_FbofrGRL",
    "bxX-2BrJrGRN",
    "4paH1ujUrGRP",
    "ZPO3PBvdrGRQ",
    "Q_3qcWbNrGRV",
    "Q0gXprd5rGRZ",
    "lbZQl9ROrGRa"
   ],
   "name": "Final Project.ipynb",
   "provenance": [],
   "toc_visible": true
  },
  "kernelspec": {
   "display_name": "Python 3",
   "language": "python",
   "name": "python3"
  },
  "language_info": {
   "codemirror_mode": {
    "name": "ipython",
    "version": 3
   },
   "file_extension": ".py",
   "mimetype": "text/x-python",
   "name": "python",
   "nbconvert_exporter": "python",
   "pygments_lexer": "ipython3",
   "version": "3.7.6"
  }
 },
 "nbformat": 4,
 "nbformat_minor": 1
}
